{
 "cells": [
  {
   "cell_type": "code",
   "execution_count": 4,
   "id": "1c1a7c6f-75bc-4d8a-9b51-0e889065f50b",
   "metadata": {
    "editable": true,
    "slideshow": {
     "slide_type": ""
    },
    "tags": []
   },
   "outputs": [
    {
     "name": "stdout",
     "output_type": "stream",
     "text": [
      "+---+------+\n",
      "| id|  name|\n",
      "+---+------+\n",
      "|  1|  Neel|\n",
      "|  2|Vinoth|\n",
      "|  3| Niral|\n",
      "+---+------+\n",
      "\n"
     ]
    }
   ],
   "source": [
    "from pyspark.sql import SparkSession\n",
    "\n",
    "# Create Spark Session with Iceberg configurations\n",
    "spark = SparkSession.builder \\\n",
    "    .appName(\"Spark Iceberg Example\") \\\n",
    "    .config(\"spark.jars.packages\", \"org.apache.iceberg:iceberg-spark-runtime-3.5_2.12:1.4.2\") \\\n",
    "    .config(\"spark.sql.extensions\", \"org.apache.iceberg.spark.extensions.IcebergSparkSessionExtensions\") \\\n",
    "    .config(\"spark.sql.catalog.my_catalog\", \"org.apache.iceberg.spark.SparkCatalog\") \\\n",
    "    .config(\"spark.sql.catalog.my_catalog.type\", \"hadoop\") \\\n",
    "    .config(\"spark.sql.catalog.my_catalog.warehouse\", \"file:///tmp/warehouse\") \\\n",
    "    .getOrCreate()\n",
    "\n",
    "# Create database\n",
    "spark.sql(\"CREATE DATABASE IF NOT EXISTS my_catalog.db\")\n",
    "\n",
    "# Create Iceberg Table\n",
    "spark.sql(\"\"\"\n",
    "    CREATE TABLE my_catalog.db.testTable2 (\n",
    "        id INT,\n",
    "        name STRING\n",
    "    ) USING ICEBERG\n",
    "\"\"\")\n",
    "\n",
    "# Insert Sample Data\n",
    "spark.sql(\"INSERT INTO my_catalog.db.testTable2 VALUES (1, 'Neel'), (2, 'Vinoth'), (3, 'Niral')\")\n",
    "\n",
    "# Query Iceberg Table\n",
    "df = spark.sql(\"SELECT * FROM my_catalog.db.testTable2\")\n",
    "df.show()\n"
   ]
  },
  {
   "cell_type": "code",
   "execution_count": 8,
   "id": "a224fd75-deec-40e1-b81e-608a23f0b962",
   "metadata": {},
   "outputs": [
    {
     "name": "stdout",
     "output_type": "stream",
     "text": [
      "+--------------------+--------------------+-------+\n",
      "|            col_name|           data_type|comment|\n",
      "+--------------------+--------------------+-------+\n",
      "|                  id|                 int|   NULL|\n",
      "|                name|              string|   NULL|\n",
      "|                    |                    |       |\n",
      "|  # Metadata Columns|                    |       |\n",
      "|            _spec_id|                 int|       |\n",
      "|          _partition|            struct<>|       |\n",
      "|               _file|              string|       |\n",
      "|                _pos|              bigint|       |\n",
      "|            _deleted|             boolean|       |\n",
      "|                    |                    |       |\n",
      "|# Detailed Table ...|                    |       |\n",
      "|                Name|my_catalog.db.tes...|       |\n",
      "|                Type|             MANAGED|       |\n",
      "|            Location|file:///tmp/wareh...|       |\n",
      "|            Provider|             iceberg|       |\n",
      "|               Owner|              jovyan|       |\n",
      "|    Table Properties|[current-snapshot...|       |\n",
      "+--------------------+--------------------+-------+\n",
      "\n"
     ]
    }
   ],
   "source": [
    "spark.sql(\"DESCRIBE FORMATTED my_catalog.db.testTable2\").show()"
   ]
  }
 ],
 "metadata": {
  "kernelspec": {
   "display_name": "Python 3 (ipykernel)",
   "language": "python",
   "name": "python3"
  },
  "language_info": {
   "codemirror_mode": {
    "name": "ipython",
    "version": 3
   },
   "file_extension": ".py",
   "mimetype": "text/x-python",
   "name": "python",
   "nbconvert_exporter": "python",
   "pygments_lexer": "ipython3",
   "version": "3.11.6"
  }
 },
 "nbformat": 4,
 "nbformat_minor": 5
}
