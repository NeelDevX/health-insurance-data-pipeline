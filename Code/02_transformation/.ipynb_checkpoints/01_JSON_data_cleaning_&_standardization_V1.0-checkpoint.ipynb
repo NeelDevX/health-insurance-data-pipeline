{
 "cells": [
  {
   "cell_type": "code",
   "execution_count": 1,
   "id": "adcacf60-5da6-494c-8cbc-430517724590",
   "metadata": {},
   "outputs": [
    {
     "name": "stderr",
     "output_type": "stream",
     "text": [
      "25/05/02 14:52:30 WARN Utils: Your hostname, NEELs-MacBook-Air.local resolves to a loopback address: 127.0.0.1; using 10.190.186.201 instead (on interface en0)\n",
      "25/05/02 14:52:30 WARN Utils: Set SPARK_LOCAL_IP if you need to bind to another address\n",
      "Setting default log level to \"WARN\".\n",
      "To adjust logging level use sc.setLogLevel(newLevel). For SparkR, use setLogLevel(newLevel).\n",
      "25/05/02 14:52:31 WARN NativeCodeLoader: Unable to load native-hadoop library for your platform... using builtin-java classes where applicable\n",
      "25/05/02 14:52:32 WARN Utils: Service 'SparkUI' could not bind on port 4040. Attempting port 4041.\n",
      "25/05/02 14:52:32 WARN Utils: Service 'SparkUI' could not bind on port 4041. Attempting port 4042.\n"
     ]
    }
   ],
   "source": [
    "from pyspark.sql import SparkSession\n",
    "\n",
    "spark = SparkSession.builder \\\n",
    "    .appName(\"Healthcare Export\") \\\n",
    "    .config(\"spark.driver.memory\", \"8g\") \\\n",
    "    .config(\"spark.executor.memory\", \"4g\") \\\n",
    "    .config(\"spark.sql.catalog.local\", \"org.apache.iceberg.spark.SparkCatalog\") \\\n",
    "    .config(\"spark.sql.catalog.local.type\", \"hadoop\") \\\n",
    "    .config(\"spark.sql.catalog.local.warehouse\", \"/Users/neelkalavadiya/Practicum_Project_Local/iceberg_warehouse\") \\\n",
    "    .config(\"spark.sql.extensions\", \"org.apache.iceberg.spark.extensions.IcebergSparkSessionExtensions\") \\\n",
    "    .getOrCreate()\n",
    "\n",
    "# Suppress all WARNs logs\n",
    "spark.sparkContext.setLogLevel(\"ERROR\")"
   ]
  },
  {
   "cell_type": "code",
   "execution_count": 2,
   "id": "67241a2b-49cb-40a5-ae3c-2319c038d89a",
   "metadata": {},
   "outputs": [
    {
     "name": "stderr",
     "output_type": "stream",
     "text": [
      "                                                                                "
     ]
    },
    {
     "name": "stdout",
     "output_type": "stream",
     "text": [
      "+---------+----------------------------+-----------+\n",
      "|namespace|tableName                   |isTemporary|\n",
      "+---------+----------------------------+-----------+\n",
      "|bronze   |baptist_medical_center_sa_tx|false      |\n",
      "+---------+----------------------------+-----------+\n",
      "\n"
     ]
    }
   ],
   "source": [
    "spark.sql(\"SHOW TABLES IN local.bronze\").show(truncate=False)"
   ]
  },
  {
   "cell_type": "code",
   "execution_count": 3,
   "id": "28fdaf45-d3c9-4293-b148-b91d21d88701",
   "metadata": {},
   "outputs": [],
   "source": [
    "jdbc_url = \"jdbc:postgresql://localhost:5432/healthcare_insurance\"\n",
    "jdbc_props = {\n",
    "    \"user\": \"postgres\", \n",
    "    \"password\": \"201970\",\n",
    "    \"driver\": \"org.postgresql.Driver\"\n",
    "}"
   ]
  },
  {
   "cell_type": "code",
   "execution_count": 8,
   "id": "39c41eaa-ba64-4f5f-9217-6b47ef66ae87",
   "metadata": {},
   "outputs": [
    {
     "name": "stderr",
     "output_type": "stream",
     "text": [
      "[Stage 4:>                                                          (0 + 1) / 1]"
     ]
    },
    {
     "name": "stdout",
     "output_type": "stream",
     "text": [
      "✅ Exported baptist_bronze to PostgreSQL\n"
     ]
    },
    {
     "name": "stderr",
     "output_type": "stream",
     "text": [
      "                                                                                "
     ]
    }
   ],
   "source": [
    "df = spark.read.table(\"local.bronze.baptist_medical_center_sa_tx\")\n",
    "try:\n",
    "    df.write \\\n",
    "        .format(\"jdbc\") \\\n",
    "        .option(\"url\", jdbc_url) \\\n",
    "        .option(\"dbtable\", \"baptist_bronze\") \\\n",
    "        .options(**jdbc_props) \\\n",
    "        .mode(\"append\") \\\n",
    "        .save()\n",
    "    print(f\"✅ Exported baptist_bronze to PostgreSQL\")\n",
    "except Exception as e:\n",
    "    print(f\"❌ Failed to export baptist_bronze: {e}\")\n",
    "    raise\n"
   ]
  },
  {
   "cell_type": "code",
   "execution_count": 14,
   "id": "1686a530-9f9e-4d6c-9c57-78e556c8ef8d",
   "metadata": {},
   "outputs": [
    {
     "name": "stdout",
     "output_type": "stream",
     "text": [
      "+--------+\n",
      "|count(1)|\n",
      "+--------+\n",
      "|150     |\n",
      "+--------+\n",
      "\n"
     ]
    }
   ],
   "source": [
    "spark.sql(\"Select * from local.bronze.kindred_ontario\").show(truncate=False)"
   ]
  },
  {
   "cell_type": "code",
   "execution_count": 6,
   "id": "5875b82c-ed8e-427e-ad70-eae6b2fd249a",
   "metadata": {},
   "outputs": [
    {
     "name": "stdout",
     "output_type": "stream",
     "text": [
      "root\n",
      " |-- provider_id: string (nullable = true)\n",
      " |-- hospital_name: string (nullable = true)\n",
      " |-- hospital_address: string (nullable = true)\n",
      " |-- hospital_location: string (nullable = true)\n",
      " |-- last_updated_on: string (nullable = true)\n",
      " |-- license_number: string (nullable = true)\n",
      " |-- license_state: string (nullable = true)\n",
      " |-- service_description: string (nullable = true)\n",
      " |-- code: string (nullable = true)\n",
      " |-- code_type: string (nullable = true)\n",
      " |-- care_setting: string (nullable = true)\n",
      " |-- gross_charge: double (nullable = true)\n",
      " |-- discounted_cash: double (nullable = true)\n",
      " |-- min_charge: double (nullable = true)\n",
      " |-- max_charge: double (nullable = true)\n",
      " |-- payer_name: string (nullable = true)\n",
      " |-- plan_name: string (nullable = true)\n",
      " |-- methodology: string (nullable = true)\n",
      " |-- negotiated_dollar_amount: double (nullable = true)\n",
      " |-- additional_payer_notes: string (nullable = true)\n",
      "\n"
     ]
    }
   ],
   "source": [
    "# Data Cleansing Notebook\n",
    "# -------------------------------------\n",
    "from pyspark.sql.functions import col, trim, current_timestamp, lit\n",
    "\n",
    "# Step 1: Read from Bronze Table\n",
    "df_bronze = spark.read.format(\"iceberg\").load(\"local.bronze.kindred_ontario\")\n",
    "df_bronze.printSchema()"
   ]
  },
  {
   "cell_type": "code",
   "execution_count": 5,
   "id": "638f2946-1732-4f7c-b308-d80852221e64",
   "metadata": {},
   "outputs": [
    {
     "name": "stdout",
     "output_type": "stream",
     "text": [
      "root\n",
      " |-- provider_id: string (nullable = true)\n",
      " |-- hospital_name: string (nullable = true)\n",
      " |-- hospital_address: string (nullable = true)\n",
      " |-- hospital_location: string (nullable = true)\n",
      " |-- last_updated_on: string (nullable = true)\n",
      " |-- license_number: string (nullable = true)\n",
      " |-- license_state: string (nullable = true)\n",
      " |-- service_description: string (nullable = true)\n",
      " |-- code: string (nullable = true)\n",
      " |-- code_type: string (nullable = true)\n",
      " |-- care_setting: string (nullable = true)\n",
      " |-- gross_charge: double (nullable = true)\n",
      " |-- discounted_cash: double (nullable = true)\n",
      " |-- min_charge: long (nullable = true)\n",
      " |-- max_charge: long (nullable = true)\n",
      " |-- payer_name: string (nullable = true)\n",
      " |-- plan_name: string (nullable = true)\n",
      " |-- methodology: string (nullable = true)\n",
      " |-- negotiated_dollar_amount: long (nullable = true)\n",
      " |-- additional_payer_notes: string (nullable = true)\n",
      "\n"
     ]
    }
   ],
   "source": [
    "df_bronze = spark.read.format(\"iceberg\").load(\"local.bronze.baptist_medical_center_sa_tx\")\n",
    "df_bronze.printSchema()\n"
   ]
  },
  {
   "cell_type": "code",
   "execution_count": 21,
   "id": "3141062d-57b4-4989-820e-f7cc50b44f3e",
   "metadata": {},
   "outputs": [
    {
     "data": {
      "text/html": [
       "<div>\n",
       "<style scoped>\n",
       "    .dataframe tbody tr th:only-of-type {\n",
       "        vertical-align: middle;\n",
       "    }\n",
       "\n",
       "    .dataframe tbody tr th {\n",
       "        vertical-align: top;\n",
       "    }\n",
       "\n",
       "    .dataframe thead th {\n",
       "        text-align: right;\n",
       "    }\n",
       "</style>\n",
       "<table border=\"1\" class=\"dataframe\">\n",
       "  <thead>\n",
       "    <tr style=\"text-align: right;\">\n",
       "      <th></th>\n",
       "      <th>Column</th>\n",
       "      <th>Missing_Count</th>\n",
       "    </tr>\n",
       "  </thead>\n",
       "  <tbody>\n",
       "    <tr>\n",
       "      <th>0</th>\n",
       "      <td>provider_id</td>\n",
       "      <td>0</td>\n",
       "    </tr>\n",
       "    <tr>\n",
       "      <th>1</th>\n",
       "      <td>hospital_name</td>\n",
       "      <td>0</td>\n",
       "    </tr>\n",
       "    <tr>\n",
       "      <th>18</th>\n",
       "      <td>negotiated_dollar_amount</td>\n",
       "      <td>0</td>\n",
       "    </tr>\n",
       "    <tr>\n",
       "      <th>17</th>\n",
       "      <td>methodology</td>\n",
       "      <td>0</td>\n",
       "    </tr>\n",
       "    <tr>\n",
       "      <th>16</th>\n",
       "      <td>plan_name</td>\n",
       "      <td>0</td>\n",
       "    </tr>\n",
       "    <tr>\n",
       "      <th>15</th>\n",
       "      <td>payer_name</td>\n",
       "      <td>0</td>\n",
       "    </tr>\n",
       "    <tr>\n",
       "      <th>14</th>\n",
       "      <td>max_charge</td>\n",
       "      <td>0</td>\n",
       "    </tr>\n",
       "    <tr>\n",
       "      <th>13</th>\n",
       "      <td>min_charge</td>\n",
       "      <td>0</td>\n",
       "    </tr>\n",
       "    <tr>\n",
       "      <th>12</th>\n",
       "      <td>discounted_cash</td>\n",
       "      <td>0</td>\n",
       "    </tr>\n",
       "    <tr>\n",
       "      <th>11</th>\n",
       "      <td>gross_charge</td>\n",
       "      <td>0</td>\n",
       "    </tr>\n",
       "    <tr>\n",
       "      <th>10</th>\n",
       "      <td>care_setting</td>\n",
       "      <td>0</td>\n",
       "    </tr>\n",
       "    <tr>\n",
       "      <th>9</th>\n",
       "      <td>code_type</td>\n",
       "      <td>0</td>\n",
       "    </tr>\n",
       "    <tr>\n",
       "      <th>8</th>\n",
       "      <td>code</td>\n",
       "      <td>0</td>\n",
       "    </tr>\n",
       "    <tr>\n",
       "      <th>7</th>\n",
       "      <td>service_description</td>\n",
       "      <td>0</td>\n",
       "    </tr>\n",
       "    <tr>\n",
       "      <th>6</th>\n",
       "      <td>license_state</td>\n",
       "      <td>0</td>\n",
       "    </tr>\n",
       "    <tr>\n",
       "      <th>5</th>\n",
       "      <td>license_number</td>\n",
       "      <td>0</td>\n",
       "    </tr>\n",
       "    <tr>\n",
       "      <th>4</th>\n",
       "      <td>last_updated_on</td>\n",
       "      <td>0</td>\n",
       "    </tr>\n",
       "    <tr>\n",
       "      <th>3</th>\n",
       "      <td>hospital_location</td>\n",
       "      <td>0</td>\n",
       "    </tr>\n",
       "    <tr>\n",
       "      <th>2</th>\n",
       "      <td>hospital_address</td>\n",
       "      <td>0</td>\n",
       "    </tr>\n",
       "    <tr>\n",
       "      <th>19</th>\n",
       "      <td>additional_payer_notes</td>\n",
       "      <td>0</td>\n",
       "    </tr>\n",
       "  </tbody>\n",
       "</table>\n",
       "</div>"
      ],
      "text/plain": [
       "                      Column  Missing_Count\n",
       "0                provider_id              0\n",
       "1              hospital_name              0\n",
       "18  negotiated_dollar_amount              0\n",
       "17               methodology              0\n",
       "16                 plan_name              0\n",
       "15                payer_name              0\n",
       "14                max_charge              0\n",
       "13                min_charge              0\n",
       "12           discounted_cash              0\n",
       "11              gross_charge              0\n",
       "10              care_setting              0\n",
       "9                  code_type              0\n",
       "8                       code              0\n",
       "7        service_description              0\n",
       "6              license_state              0\n",
       "5             license_number              0\n",
       "4            last_updated_on              0\n",
       "3          hospital_location              0\n",
       "2           hospital_address              0\n",
       "19    additional_payer_notes              0"
      ]
     },
     "metadata": {},
     "output_type": "display_data"
    }
   ],
   "source": [
    "from pyspark.sql.functions import col, sum as spark_sum, isnan, when\n",
    "import pandas as pd\n",
    "\n",
    "# Step 1: Count nulls and NaNs in each column\n",
    "null_counts_row = df_clean.select([\n",
    "    spark_sum(when(col(c).isNull() | isnan(col(c)), 1).otherwise(0)).alias(c)\n",
    "    for c in df_clean.columns\n",
    "]).collect()[0]\n",
    "\n",
    "# Step 2: Convert the results into a Pandas DataFrame for easy viewing\n",
    "null_counts_dict = null_counts_row.asDict()\n",
    "null_counts_df = pd.DataFrame(list(null_counts_dict.items()), columns=[\"Column\", \"Missing_Count\"])\n",
    "\n",
    "# Step 3: Optional – sort by most missing\n",
    "null_counts_df = null_counts_df.sort_values(by=\"Missing_Count\", ascending=False)\n",
    "\n",
    "# Step 4: Show the result\n",
    "from IPython.display import display\n",
    "display(null_counts_df)"
   ]
  },
  {
   "cell_type": "code",
   "execution_count": null,
   "id": "f90f82ed-ad15-4a4b-a891-89c624b3a3a5",
   "metadata": {},
   "outputs": [],
   "source": [
    "# Step 1: Drop records with critical nulls\n",
    "df_clean = df_bronze.dropna(subset=[\"min_charge\", \"max_charge\"])\n"
   ]
  },
  {
   "cell_type": "code",
   "execution_count": 18,
   "id": "73a8fe7f-9d56-4a62-aa8f-ed09bae3ee16",
   "metadata": {},
   "outputs": [],
   "source": [
    "from pyspark.sql.functions import when, col\n",
    "\n",
    "df_clean = df_clean.withColumn(\n",
    "    \"gross_charge\",\n",
    "    when(\n",
    "        col(\"gross_charge\").isNull() & col(\"min_charge\").isNotNull() & col(\"max_charge\").isNotNull(),\n",
    "        (col(\"min_charge\") + col(\"max_charge\")) / 2\n",
    "    ).otherwise(col(\"gross_charge\"))\n",
    ")"
   ]
  },
  {
   "cell_type": "code",
   "execution_count": null,
   "id": "08fe9a31-c14c-406e-aeb2-35cdc050d786",
   "metadata": {},
   "outputs": [],
   "source": [
    "df_clean = df_clean.withColumn(\n",
    "    \"standard_charge_dollar\",\n",
    "    when(\n",
    "        col(\"standard_charge_dollar\").isNull(), col(\"gross_charge\")\n",
    "    ).otherwise(col(\"standard_charge_dollar\"))\n",
    ")"
   ]
  },
  {
   "cell_type": "code",
   "execution_count": 19,
   "id": "e898752e-dbd4-4c4d-8655-0ff29dda6b93",
   "metadata": {},
   "outputs": [],
   "source": [
    "df_clean = df_clean.withColumn(\n",
    "    \"discounted_cash\",\n",
    "    when(\n",
    "        col(\"discounted_cash\").isNull(), col(\"gross_charge\")\n",
    "    ).otherwise(col(\"discounted_cash\"))\n",
    ")"
   ]
  },
  {
   "cell_type": "code",
   "execution_count": 23,
   "id": "f9768c48-7da2-4e24-b50d-fef9a7f8b160",
   "metadata": {},
   "outputs": [],
   "source": [
    "# Step 1: Drop records with critical nulls\n",
    "df_clean = df_clean.dropna(subset=[\"provider_id\", \"hospital_name\", \"service_description\", \"gross_charge\"])\n"
   ]
  },
  {
   "cell_type": "code",
   "execution_count": 24,
   "id": "58b16151-8512-45b6-b959-6167dc71decc",
   "metadata": {},
   "outputs": [],
   "source": [
    "# Step 2: Deduplicate\n",
    "df_clean = df_clean.dropDuplicates()"
   ]
  },
  {
   "cell_type": "code",
   "execution_count": 25,
   "id": "2a9549a8-e1f6-45eb-b2b0-f3d6266d418b",
   "metadata": {},
   "outputs": [],
   "source": [
    "from pyspark.sql.functions import col, trim, current_timestamp, lit,upper,to_date\n",
    "# Step 3: Format standardization\n",
    "df_clean = df_clean \\\n",
    "    .withColumn(\"payer_name\", upper(trim(col(\"payer_name\")))) \\\n",
    "    .withColumn(\"plan_name\", upper(trim(col(\"plan_name\")))) \\\n",
    "    .withColumn(\"last_updated_on\", to_date(\"last_updated_on\", \"yyyy-MM-dd\"))\n"
   ]
  },
  {
   "cell_type": "code",
   "execution_count": 9,
   "id": "01205403-1e5d-4c2f-a336-40f980c82394",
   "metadata": {},
   "outputs": [
    {
     "name": "stderr",
     "output_type": "stream",
     "text": [
      "                                                                                "
     ]
    }
   ],
   "source": [
    "df_clean.write.mode(\"overwrite\").parquet(\"/Users/neelkalavadiya/Practicum_Project_Local/iceberg_warehouse/checkpoint_parquet/cleaning\")"
   ]
  },
  {
   "cell_type": "code",
   "execution_count": null,
   "id": "4573f29a-4c92-44be-9fa9-eeed3df42047",
   "metadata": {},
   "outputs": [],
   "source": []
  },
  {
   "cell_type": "code",
   "execution_count": null,
   "id": "b48de125-e10f-424c-a000-a2b761bd77b1",
   "metadata": {},
   "outputs": [],
   "source": []
  }
 ],
 "metadata": {
  "kernelspec": {
   "display_name": "Python 3 (ipykernel)",
   "language": "python",
   "name": "python3"
  },
  "language_info": {
   "codemirror_mode": {
    "name": "ipython",
    "version": 3
   },
   "file_extension": ".py",
   "mimetype": "text/x-python",
   "name": "python",
   "nbconvert_exporter": "python",
   "pygments_lexer": "ipython3",
   "version": "3.9.22"
  }
 },
 "nbformat": 4,
 "nbformat_minor": 5
}
