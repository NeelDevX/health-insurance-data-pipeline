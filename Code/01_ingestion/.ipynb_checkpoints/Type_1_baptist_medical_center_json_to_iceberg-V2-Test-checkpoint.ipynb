{
 "cells": [
  {
   "cell_type": "code",
   "execution_count": 1,
   "id": "12d8f857-2eb7-4dbb-902a-8e98b046e3bf",
   "metadata": {},
   "outputs": [
    {
     "name": "stderr",
     "output_type": "stream",
     "text": [
      "25/05/05 12:09:32 WARN Utils: Your hostname, NEELs-MacBook-Air.local resolves to a loopback address: 127.0.0.1; using 10.190.186.140 instead (on interface en0)\n",
      "25/05/05 12:09:32 WARN Utils: Set SPARK_LOCAL_IP if you need to bind to another address\n",
      "Setting default log level to \"WARN\".\n",
      "To adjust logging level use sc.setLogLevel(newLevel). For SparkR, use setLogLevel(newLevel).\n",
      "25/05/05 12:09:33 WARN NativeCodeLoader: Unable to load native-hadoop library for your platform... using builtin-java classes where applicable\n"
     ]
    }
   ],
   "source": [
    "from pyspark.sql import SparkSession\n",
    "\n",
    "spark = SparkSession.builder \\\n",
    "    .appName(\"Healthcare Export\") \\\n",
    "    .config(\"spark.driver.memory\", \"8g\") \\\n",
    "    .config(\"spark.executor.memory\", \"4g\") \\\n",
    "    .config(\"spark.sql.catalog.local\", \"org.apache.iceberg.spark.SparkCatalog\") \\\n",
    "    .config(\"spark.sql.catalog.local.type\", \"hadoop\") \\\n",
    "    .config(\"spark.sql.catalog.local.warehouse\", \"/Users/neelkalavadiya/Practicum_Project_Local/iceberg_warehouse\") \\\n",
    "    .config(\"spark.sql.extensions\", \"org.apache.iceberg.spark.extensions.IcebergSparkSessionExtensions\") \\\n",
    "    .getOrCreate()\n",
    "\n",
    "# Suppress all WARNs logs\n",
    "spark.sparkContext.setLogLevel(\"ERROR\")"
   ]
  },
  {
   "cell_type": "code",
   "execution_count": 2,
   "id": "e352103d-78d2-4a41-82b7-adee22edb36d",
   "metadata": {},
   "outputs": [
    {
     "name": "stderr",
     "output_type": "stream",
     "text": [
      "                                                                                "
     ]
    },
    {
     "name": "stdout",
     "output_type": "stream",
     "text": [
      "root\n",
      " |-- affirmation: struct (nullable = true)\n",
      " |    |-- affirmation: string (nullable = true)\n",
      " |    |-- confirm_affirmation: boolean (nullable = true)\n",
      " |-- hospital_address: array (nullable = true)\n",
      " |    |-- element: string (containsNull = true)\n",
      " |-- hospital_location: array (nullable = true)\n",
      " |    |-- element: string (containsNull = true)\n",
      " |-- hospital_name: string (nullable = true)\n",
      " |-- last_updated_on: string (nullable = true)\n",
      " |-- license_information: struct (nullable = true)\n",
      " |    |-- license: string (nullable = true)\n",
      " |    |-- state: string (nullable = true)\n",
      " |-- pId: string (nullable = true)\n",
      " |-- standard_charge_information: array (nullable = true)\n",
      " |    |-- element: struct (containsNull = true)\n",
      " |    |    |-- code_information: array (nullable = true)\n",
      " |    |    |    |-- element: struct (containsNull = true)\n",
      " |    |    |    |    |-- code: string (nullable = true)\n",
      " |    |    |    |    |-- modifiers: string (nullable = true)\n",
      " |    |    |    |    |-- type: string (nullable = true)\n",
      " |    |    |-- description: string (nullable = true)\n",
      " |    |    |-- standard_charges: array (nullable = true)\n",
      " |    |    |    |-- element: struct (containsNull = true)\n",
      " |    |    |    |    |-- additional_generic_notes: string (nullable = true)\n",
      " |    |    |    |    |-- discounted_cash: double (nullable = true)\n",
      " |    |    |    |    |-- gross_charge: double (nullable = true)\n",
      " |    |    |    |    |-- maximum: long (nullable = true)\n",
      " |    |    |    |    |-- minimum: long (nullable = true)\n",
      " |    |    |    |    |-- payers_information: array (nullable = true)\n",
      " |    |    |    |    |    |-- element: struct (containsNull = true)\n",
      " |    |    |    |    |    |    |-- additional_payer_notes: string (nullable = true)\n",
      " |    |    |    |    |    |    |-- billing_class: string (nullable = true)\n",
      " |    |    |    |    |    |    |-- methodology: string (nullable = true)\n",
      " |    |    |    |    |    |    |-- payer_name: string (nullable = true)\n",
      " |    |    |    |    |    |    |-- plan_name: string (nullable = true)\n",
      " |    |    |    |    |    |    |-- standard_charge_algorithm: string (nullable = true)\n",
      " |    |    |    |    |    |    |-- standard_charge_dollar: long (nullable = true)\n",
      " |    |    |    |    |    |    |-- standard_charge_percentage: long (nullable = true)\n",
      " |    |    |    |    |-- setting: string (nullable = true)\n",
      " |-- version: string (nullable = true)\n",
      "\n"
     ]
    }
   ],
   "source": [
    "# Read the JSON\n",
    "json_path = \"/Users/neelkalavadiya/Practicum_Project_Local/iceberg_warehouse/raw_dataset/TX/vernon_memorial.csv\"\n",
    "df = spark.read.option(\"multiline\", \"true\").json(json_path)\n",
    "df.printSchema()"
   ]
  },
  {
   "cell_type": "code",
   "execution_count": null,
   "id": "3c41d0e5-98da-440e-972b-620798fde384",
   "metadata": {},
   "outputs": [],
   "source": []
  },
  {
   "cell_type": "code",
   "execution_count": 4,
   "id": "bd1bd536-878f-4ce7-ba28-6e07084f364f",
   "metadata": {},
   "outputs": [],
   "source": [
    "from pyspark.sql.functions import col, explode, when, udf, coalesce\n",
    "from pyspark.sql.types import StringType\n",
    "\n",
    "manual_pids = {\n",
    "    \"Kindred Hospital Ontario\": \"106361274\",\n",
    "    \"RIVERSIDE COMMUNITY HOSPITAL\":\"050022\"\n",
    "}\n",
    "\n",
    "@udf(StringType())\n",
    "def assign_pid(hospital_name):\n",
    "    return manual_pids.get(hospital_name)\n",
    "\n",
    "# Step 3: Check if 'pId' exists\n",
    "if 'pId' in df.columns:\n",
    "    df_with_pid = df.withColumn(\n",
    "        \"provider_id\",\n",
    "        when(col(\"pId\").isNotNull(), col(\"pId\")).otherwise(assign_pid(col(\"hospital_name\")))\n",
    "    )\n",
    "else:\n",
    "    df_with_pid = df.withColumn(\n",
    "        \"provider_id\", \n",
    "        assign_pid(col(\"hospital_name\"))\n",
    "    )n\n",
    "\n",
    "license_fields = df.select(\"license_information.*\").schema.names\n",
    "if \"license\" in license_fields:\n",
    "    license_col = \"license\"\n",
    "elif \"license_number\" in license_fields:\n",
    "    license_col = \"license_number\"\n",
    "elif \"hospital_license_number\" in license_fields:\n",
    "    license_col = \"hospital_license_number\"\n",
    "else:\n",
    "    raise ValueError(\"❌ No valid license field found in license_information\")\n",
    "\n",
    "# Step 4: Explode and select\n",
    "df_exploded = df_with_pid.select(\n",
    "    col(\"provider_id\"),\n",
    "    col(\"hospital_name\"),\n",
    "    col(\"hospital_address\")[0].alias(\"hospital_address\"),\n",
    "    col(\"hospital_location\")[0].alias(\"hospital_location\"),\n",
    "    col(\"last_updated_on\"),\n",
    "    col(f\"license_information.{license_col}\").alias(\"license_number\"),\n",
    "    col(\"license_information.state\").alias(\"license_state\"),\n",
    "    explode(\"standard_charge_information\").alias(\"sci\")\n",
    ")"
   ]
  },
  {
   "cell_type": "code",
   "execution_count": 4,
   "id": "f963a762-20ad-47ee-9908-e66590a37409",
   "metadata": {},
   "outputs": [],
   "source": [
    "#Explode code_information\n",
    "df_code = df_exploded.select(\n",
    "    \"*\",\n",
    "    col(\"sci.description\").alias(\"service_description\"),\n",
    "    explode(\"sci.code_information\").alias(\"code_info\"),\n",
    "    col(\"sci.standard_charges\").alias(\"charge_arr\")\n",
    ")"
   ]
  },
  {
   "cell_type": "code",
   "execution_count": 5,
   "id": "e05792d7-9633-4947-b60c-1b902e119d37",
   "metadata": {},
   "outputs": [],
   "source": [
    "#Explode standard_charges\n",
    "df_charges = df_code.select(\n",
    "    \"*\",\n",
    "    col(\"code_info.code\").alias(\"code\"),\n",
    "    col(\"code_info.type\").alias(\"code_type\"),\n",
    "    explode(\"charge_arr\").alias(\"charge\")\n",
    ")"
   ]
  },
  {
   "cell_type": "code",
   "execution_count": 6,
   "id": "8c9870a5-de4a-43fe-98f4-d005e2739f43",
   "metadata": {},
   "outputs": [],
   "source": [
    "#Explode payers_information\n",
    "df_payer = df_charges.select(\n",
    "    \"provider_id\", \"hospital_name\", \"hospital_address\", \"hospital_location\",\n",
    "    \"last_updated_on\", \"license_number\", \"license_state\", \"service_description\",\n",
    "    \"code\", \"code_type\",\n",
    "    col(\"charge.setting\").alias(\"care_setting\"),\n",
    "    col(\"charge.gross_charge\"),\n",
    "    col(\"charge.discounted_cash\"),\n",
    "    col(\"charge.minimum\").alias(\"min_charge\"),\n",
    "    col(\"charge.maximum\").alias(\"max_charge\"),\n",
    "    explode(\"charge.payers_information\").alias(\"payer\")\n",
    ")"
   ]
  },
  {
   "cell_type": "code",
   "execution_count": 7,
   "id": "29947468-f5d6-41e3-a629-f90bbf216f00",
   "metadata": {},
   "outputs": [],
   "source": [
    "payer_fields = df_payer.select(\"payer.*\").schema.names\n",
    "dollar_col = \"standard_charge_dollar\" if \"standard_charge_dollar\" in payer_fields else \"estimated_amount\""
   ]
  },
  {
   "cell_type": "code",
   "execution_count": 8,
   "id": "0525fa4c-ce39-41c6-beb3-7058778a13c6",
   "metadata": {},
   "outputs": [],
   "source": [
    "df_final_flat = df_payer.select(\n",
    "    \"*\",\n",
    "    col(\"payer.payer_name\"),\n",
    "    col(\"payer.plan_name\"),\n",
    "    col(\"payer.methodology\"),\n",
    "    col(f\"payer.{dollar_col}\").alias(\"negotiated_dollar_amount\"),\n",
    "    col(\"payer.additional_payer_notes\")\n",
    ")"
   ]
  },
  {
   "cell_type": "code",
   "execution_count": 9,
   "id": "76e539e1-ffc4-46e2-a921-589b74088bd7",
   "metadata": {},
   "outputs": [
    {
     "name": "stderr",
     "output_type": "stream",
     "text": [
      "                                                                                "
     ]
    },
    {
     "name": "stdout",
     "output_type": "stream",
     "text": [
      "+-----------+--------------------+--------------------+--------------------+---------------+--------------+-------------+--------------------+--------------------+---------+------------+------------+---------------+----------+----------+--------------------+--------------------+------------------+--------------------+------------------------+----------------------+\n",
      "|provider_id|       hospital_name|    hospital_address|   hospital_location|last_updated_on|license_number|license_state| service_description|                code|code_type|care_setting|gross_charge|discounted_cash|min_charge|max_charge|               payer|          payer_name|         plan_name|         methodology|negotiated_dollar_amount|additional_payer_notes|\n",
      "+-----------+--------------------+--------------------+--------------------+---------------+--------------+-------------+--------------------+--------------------+---------+------------+------------+---------------+----------+----------+--------------------+--------------------+------------------+--------------------+------------------------+----------------------+\n",
      "| 1547162029|Santa Rosa Hospit...|2827 Babcock Rd, ...|Santa Rosa Hospit...|     2024-11-20|        000339|           TX|PT ESTIM UNAT NON...|               97014|      CPT|  outpatient|       457.0|         205.65|      0.12|     616.0|{contract indicat...|               Cigna|       NewBusiness|               other|                   283.0|  contract indicate...|\n",
      "| 1547162029|Santa Rosa Hospit...|2827 Babcock Rd, ...|Santa Rosa Hospit...|     2024-11-20|        000339|           TX|PT ESTIM UNAT NON...|               97014|      CPT|  outpatient|       457.0|         205.65|      0.12|     616.0|{contract indicat...|               Cigna|               PPO|               other|                   359.0|  contract indicate...|\n",
      "| 1547162029|Santa Rosa Hospit...|2827 Babcock Rd, ...|Santa Rosa Hospit...|     2024-11-20|        000339|           TX|PT ESTIM UNAT NON...|420|421|422|423|4...|       RC|  outpatient|       457.0|         205.65|      0.12|     616.0|{contract indicat...|               Cigna|       NewBusiness|               other|                   283.0|  contract indicate...|\n",
      "| 1547162029|Santa Rosa Hospit...|2827 Babcock Rd, ...|Santa Rosa Hospit...|     2024-11-20|        000339|           TX|PT ESTIM UNAT NON...|420|421|422|423|4...|       RC|  outpatient|       457.0|         205.65|      0.12|     616.0|{contract indicat...|               Cigna|               PPO|               other|                   359.0|  contract indicate...|\n",
      "| 1547162029|Santa Rosa Hospit...|2827 Babcock Rd, ...|Santa Rosa Hospit...|     2024-11-20|        000339|           TX|DURABLE MEDICAL E...|                0294|       RC|        both|        null|           null|      65.0|      65.0|{null, facility, ...|          Amerigroup|        StarKidsKM|percent of total ...|                    null|                  null|\n",
      "| 1547162029|Santa Rosa Hospit...|2827 Babcock Rd, ...|Santa Rosa Hospit...|     2024-11-20|        000339|           TX|DURABLE MEDICAL E...|                0294|       RC|        both|        null|           null|      65.0|      65.0|{null, facility, ...|         Healthsmart|               PPO|percent of total ...|                    null|                  null|\n",
      "| 1547162029|Santa Rosa Hospit...|2827 Babcock Rd, ...|Santa Rosa Hospit...|     2024-11-20|        000339|           TX|DURABLE MEDICAL E...|                0294|       RC|        both|        null|           null|      65.0|      65.0|{null, facility, ...|Blue Cross Blue S...|               HEB|percent of total ...|                    null|                  null|\n",
      "| 1547162029|Santa Rosa Hospit...|2827 Babcock Rd, ...|Santa Rosa Hospit...|     2024-11-20|        000339|           TX|DURABLE MEDICAL E...|                0294|       RC|        both|        null|           null|      65.0|      65.0|{null, facility, ...|Medicus Internati...|               PPO|percent of total ...|                    null|                  null|\n",
      "| 1547162029|Santa Rosa Hospit...|2827 Babcock Rd, ...|Santa Rosa Hospit...|     2024-11-20|        000339|           TX|DURABLE MEDICAL E...|                0294|       RC|        both|        null|           null|      65.0|      65.0|{null, facility, ...|Community First H...|               HMO|percent of total ...|                    null|                  null|\n",
      "| 1547162029|Santa Rosa Hospit...|2827 Babcock Rd, ...|Santa Rosa Hospit...|     2024-11-20|        000339|           TX|DURABLE MEDICAL E...|                0294|       RC|        both|        null|           null|      65.0|      65.0|{null, facility, ...|Blue Cross Blue S...|BlueAdvantage(HMO)|percent of total ...|                    null|                  null|\n",
      "+-----------+--------------------+--------------------+--------------------+---------------+--------------+-------------+--------------------+--------------------+---------+------------+------------+---------------+----------+----------+--------------------+--------------------+------------------+--------------------+------------------------+----------------------+\n",
      "only showing top 10 rows\n",
      "\n"
     ]
    }
   ],
   "source": [
    "df_final_flat.show(10)"
   ]
  },
  {
   "cell_type": "code",
   "execution_count": 10,
   "id": "587be146-6643-4d3a-88fc-4c102d78c873",
   "metadata": {},
   "outputs": [
    {
     "name": "stderr",
     "output_type": "stream",
     "text": [
      "                                                                                "
     ]
    }
   ],
   "source": [
    "parquet_path = \"/Users/neelkalavadiya/Practicum_Project_Local/iceberg_warehouse/checkpoint_parquet/ingestion/SantaRosa_Hospital_MedicalCenter_SA_TX.parquet\"\n",
    "df_final_flat.write.mode(\"overwrite\").parquet(parquet_path)\n"
   ]
  },
  {
   "cell_type": "code",
   "execution_count": 12,
   "id": "a56d3b46-62cd-4293-90f1-9e6c5dc12dd2",
   "metadata": {},
   "outputs": [],
   "source": [
    "parquet_path = \"/Users/neelkalavadiya/Practicum_Project_Local/iceberg_warehouse/checkpoint_parquet/ingestion/SantaRosa_Hospital_MedicalCenter_SA_TX.parquet\"\n",
    "df_read_back = spark.read.parquet(parquet_path)"
   ]
  },
  {
   "cell_type": "code",
   "execution_count": 14,
   "id": "d5176763-61ed-421b-aeb6-e0acbedf3ae2",
   "metadata": {},
   "outputs": [
    {
     "data": {
      "text/plain": [
       "DataFrame[]"
      ]
     },
     "execution_count": 14,
     "metadata": {},
     "output_type": "execute_result"
    }
   ],
   "source": [
    "spark.sql(\"DROP TABLE IF EXISTS local.bronze.SantaRosa_Hospital_MedicalCenter_SA_TX\")\n"
   ]
  },
  {
   "cell_type": "code",
   "execution_count": 15,
   "id": "87a2f998-759e-43d4-892a-f2a475fb1613",
   "metadata": {},
   "outputs": [
    {
     "data": {
      "text/plain": [
       "DataFrame[]"
      ]
     },
     "execution_count": 15,
     "metadata": {},
     "output_type": "execute_result"
    }
   ],
   "source": [
    "spark.sql(\"CREATE NAMESPACE IF NOT EXISTS local.bronze\")\n"
   ]
  },
  {
   "cell_type": "code",
   "execution_count": 16,
   "id": "6ad23655-5018-4087-a84a-7570cf99de96",
   "metadata": {},
   "outputs": [
    {
     "name": "stderr",
     "output_type": "stream",
     "text": [
      "                                                                                "
     ]
    }
   ],
   "source": [
    "df_read_back.writeTo(\"local.bronze.SantaRosa_Hospital_MedicalCenter_SA_TX\") \\\n",
    "    .using(\"iceberg\") \\\n",
    "    .tableProperty(\"format-version\", \"2\") \\\n",
    "    .createOrReplace()\n"
   ]
  },
  {
   "cell_type": "code",
   "execution_count": 2,
   "id": "cd538edb-120c-4464-96ae-3ff4af6b66bf",
   "metadata": {},
   "outputs": [
    {
     "name": "stdout",
     "output_type": "stream",
     "text": [
      "+---------+----------------------------+-----------+\n",
      "|namespace|tableName                   |isTemporary|\n",
      "+---------+----------------------------+-----------+\n",
      "|bronze   |baptist_medical_center_sa_tx|false      |\n",
      "+---------+----------------------------+-----------+\n",
      "\n"
     ]
    },
    {
     "name": "stderr",
     "output_type": "stream",
     "text": [
      "                                                                                "
     ]
    }
   ],
   "source": [
    "spark.sql(\"SHOW TABLES IN local.bronze\").show(truncate=False)\n"
   ]
  },
  {
   "cell_type": "code",
   "execution_count": 3,
   "id": "a72ba150-5760-4c01-bbc2-29a175df6546",
   "metadata": {},
   "outputs": [
    {
     "name": "stderr",
     "output_type": "stream",
     "text": [
      "[Stage 1:>                                                          (0 + 1) / 1]"
     ]
    },
    {
     "name": "stdout",
     "output_type": "stream",
     "text": [
      "+--------------------------------+-----+------------+---------------+--------------------------+\n",
      "|plan_name                       |code |gross_charge|discounted_cash|standard_charge_percentage|\n",
      "+--------------------------------+-----+------------+---------------+--------------------------+\n",
      "|United Health TX Mgd M/Care     |0010U|null        |null           |null                      |\n",
      "|Humana Commercial               |0010U|null        |null           |null                      |\n",
      "|Humana Commercial               |0010U|null        |null           |null                      |\n",
      "|Molina Mgd M/Care Narrow Network|0010U|null        |null           |null                      |\n",
      "|Wellpoint CHIP Mgd M/Caid       |0010U|null        |null           |null                      |\n",
      "|Cigna Health Plan - New Business|0010U|null        |null           |null                      |\n",
      "|Cigna Health Plan - HMO         |0010U|null        |null           |null                      |\n",
      "|BCBS-TX Blue Advantage HIX      |0010U|null        |null           |null                      |\n",
      "|Ambetter HIX                    |0010U|null        |null           |3200                      |\n",
      "|BCBS-TX Traditional             |0010U|null        |null           |null                      |\n",
      "+--------------------------------+-----+------------+---------------+--------------------------+\n",
      "\n"
     ]
    },
    {
     "name": "stderr",
     "output_type": "stream",
     "text": [
      "                                                                                "
     ]
    }
   ],
   "source": [
    "spark.sql(\"Select plan_name,code, gross_charge, discounted_cash,standard_charge_percentage From local.bronze.baptist_medical_center_sa_tx where code = '0010U' LIMIT 10\").show(truncate=False)\n"
   ]
  },
  {
   "cell_type": "code",
   "execution_count": 13,
   "id": "dfa22ad7-cce7-466b-b7a3-bcd701a9a438",
   "metadata": {},
   "outputs": [
    {
     "name": "stdout",
     "output_type": "stream",
     "text": [
      "+-----+------------+----------+----------+---------------+----------+--------------------------+\n",
      "|code |gross_charge|min_charge|max_charge|discounted_cash|max_charge|standard_charge_percentage|\n",
      "+-----+------------+----------+----------+---------------+----------+--------------------------+\n",
      "|0007U|203.0       |1         |405       |203.0          |405       |null                      |\n",
      "|0007U|203.0       |1         |405       |203.0          |405       |82.26600985221675         |\n",
      "|0007U|203.0       |1         |405       |203.0          |405       |56.15763546798029         |\n",
      "|0007U|203.0       |1         |405       |203.0          |405       |38.91625615763547         |\n",
      "|0007U|203.0       |1         |405       |203.0          |405       |6200.0                    |\n",
      "|0007U|203.0       |1         |405       |203.0          |405       |37.4384236453202          |\n",
      "|0007U|203.0       |1         |405       |203.0          |405       |null                      |\n",
      "|0007U|203.0       |1         |405       |203.0          |405       |56.15763546798029         |\n",
      "|0007U|203.0       |1         |405       |203.0          |405       |null                      |\n",
      "|0007U|203.0       |1         |405       |203.0          |405       |null                      |\n",
      "+-----+------------+----------+----------+---------------+----------+--------------------------+\n",
      "\n"
     ]
    }
   ],
   "source": [
    "spark.sql(\"Select code, gross_charge, min_charge, max_charge, discounted_cash,max_charge,standard_charge_percentage From local.silver.baptist_medical_center_sa_tx where code = '0007U' LIMIT 10\").show(truncate=False)\n"
   ]
  },
  {
   "cell_type": "code",
   "execution_count": 6,
   "id": "a279c61b-0105-4869-892a-e3fdf93adf15",
   "metadata": {},
   "outputs": [
    {
     "name": "stdout",
     "output_type": "stream",
     "text": [
      "Dropping table: local.gold.dim_hospital\n",
      "Dropping table: local.gold.dim_payer\n",
      "Dropping table: local.gold.dim_procedure\n",
      "Dropping table: local.gold.fact_charges\n"
     ]
    }
   ],
   "source": [
    "tables = spark.sql(\"SHOW TABLES IN local.bronze\").collect()\n",
    "\n",
    "for row in tables:\n",
    "    table_name = row[\"tableName\"]\n",
    "    full_name = f\"local.gold.{table_name}\"\n",
    "    print(f\"Dropping table: {full_name}\")\n",
    "    spark.sql(f\"DROP TABLE IF EXISTS {full_name}\")\n"
   ]
  },
  {
   "cell_type": "code",
   "execution_count": 7,
   "id": "5dd8e237-17c5-462f-9b7a-309d950974f8",
   "metadata": {},
   "outputs": [
    {
     "name": "stderr",
     "output_type": "stream",
     "text": [
      "[Stage 1:>                                                          (0 + 1) / 1]"
     ]
    },
    {
     "name": "stdout",
     "output_type": "stream",
     "text": [
      "1514675685\n"
     ]
    },
    {
     "name": "stderr",
     "output_type": "stream",
     "text": [
      "                                                                                "
     ]
    }
   ],
   "source": [
    "# Extract provider_id from the JSON\n",
    "provider_id = df_final_flat.select(\"provider_id\").first()[\"provider_id\"]\n",
    "print(provider_id)"
   ]
  },
  {
   "cell_type": "code",
   "execution_count": 8,
   "id": "666f26a5-6fbd-4b44-bb3c-912e562a8b0c",
   "metadata": {},
   "outputs": [
    {
     "name": "stdout",
     "output_type": "stream",
     "text": [
      "[Row(tableName='missiontrail_baptist_hospital_sa_tx'), Row(tableName='baptist_medical_center_sa_tx')]\n"
     ]
    }
   ],
   "source": [
    "# Read all existing tables in bronze namespace and check if provider_id already ingested\n",
    "table_df = spark.sql(\"SHOW TABLES IN local.bronze\").select(\"tableName\").collect()\n",
    "print(table_df)"
   ]
  },
  {
   "cell_type": "code",
   "execution_count": 19,
   "id": "1f9f271b-4927-4865-94b8-9b9bf0d00474",
   "metadata": {},
   "outputs": [
    {
     "name": "stdout",
     "output_type": "stream",
     "text": [
      "Row(tableName='missiontrail_baptist_hospital_sa_tx')\n",
      "local.bronze.missiontrail_baptist_hospital_sa_tx\n",
      "1514676722\n",
      "Row(tableName='baptist_medical_center_sa_tx')\n",
      "local.bronze.baptist_medical_center_sa_tx\n",
      "1514675685\n"
     ]
    }
   ],
   "source": [
    "for row in table_df:\n",
    "    print(row)\n",
    "    existing_table = f\"local.bronze.{row['tableName']}\"\n",
    "    print(existing_table)\n",
    "    existing_df = spark.read.table(existing_table)\n",
    "    print(existing_df.select(\"provider_id\").first()[\"provider_id\"])\n",
    "\n",
    "    \n",
    "    "
   ]
  },
  {
   "cell_type": "code",
   "execution_count": null,
   "id": "84266498-6479-42f3-9539-5da2d72d68b9",
   "metadata": {},
   "outputs": [],
   "source": []
  }
 ],
 "metadata": {
  "kernelspec": {
   "display_name": "Python 3 (ipykernel)",
   "language": "python",
   "name": "python3"
  },
  "language_info": {
   "codemirror_mode": {
    "name": "ipython",
    "version": 3
   },
   "file_extension": ".py",
   "mimetype": "text/x-python",
   "name": "python",
   "nbconvert_exporter": "python",
   "pygments_lexer": "ipython3",
   "version": "3.9.22"
  }
 },
 "nbformat": 4,
 "nbformat_minor": 5
}
