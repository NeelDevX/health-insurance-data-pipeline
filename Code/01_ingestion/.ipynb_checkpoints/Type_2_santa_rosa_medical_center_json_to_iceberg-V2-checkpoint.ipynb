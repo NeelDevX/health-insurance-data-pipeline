{
 "cells": [
  {
   "cell_type": "code",
   "execution_count": 2,
   "id": "e352103d-78d2-4a41-82b7-adee22edb36d",
   "metadata": {},
   "outputs": [
    {
     "name": "stderr",
     "output_type": "stream",
     "text": [
      "                                                                                "
     ]
    },
    {
     "name": "stdout",
     "output_type": "stream",
     "text": [
      "root\n",
      " |-- affirmation: struct (nullable = true)\n",
      " |    |-- affirmation: string (nullable = true)\n",
      " |    |-- confirm_affirmation: boolean (nullable = true)\n",
      " |-- hospital_address: array (nullable = true)\n",
      " |    |-- element: string (containsNull = true)\n",
      " |-- hospital_location: array (nullable = true)\n",
      " |    |-- element: string (containsNull = true)\n",
      " |-- hospital_name: string (nullable = true)\n",
      " |-- last_updated_on: string (nullable = true)\n",
      " |-- license_information: struct (nullable = true)\n",
      " |    |-- license_number: string (nullable = true)\n",
      " |    |-- state: string (nullable = true)\n",
      " |-- modifier_information: array (nullable = true)\n",
      " |    |-- element: struct (containsNull = true)\n",
      " |    |    |-- code: string (nullable = true)\n",
      " |    |    |-- description: string (nullable = true)\n",
      " |    |    |-- modifier_payer_information: array (nullable = true)\n",
      " |    |    |    |-- element: struct (containsNull = true)\n",
      " |    |    |    |    |-- description: string (nullable = true)\n",
      " |    |    |    |    |-- payer_name: string (nullable = true)\n",
      " |    |    |    |    |-- plan_name: string (nullable = true)\n",
      " |-- pId: string (nullable = true)\n",
      " |-- standard_charge_information: array (nullable = true)\n",
      " |    |-- element: struct (containsNull = true)\n",
      " |    |    |-- code_information: array (nullable = true)\n",
      " |    |    |    |-- element: struct (containsNull = true)\n",
      " |    |    |    |    |-- code: string (nullable = true)\n",
      " |    |    |    |    |-- modifiers: string (nullable = true)\n",
      " |    |    |    |    |-- type: string (nullable = true)\n",
      " |    |    |-- description: string (nullable = true)\n",
      " |    |    |-- drug_information: struct (nullable = true)\n",
      " |    |    |    |-- type: string (nullable = true)\n",
      " |    |    |    |-- unit: string (nullable = true)\n",
      " |    |    |-- standard_charges: array (nullable = true)\n",
      " |    |    |    |-- element: struct (containsNull = true)\n",
      " |    |    |    |    |-- discounted_cash: double (nullable = true)\n",
      " |    |    |    |    |-- gross_charge: double (nullable = true)\n",
      " |    |    |    |    |-- maximum: double (nullable = true)\n",
      " |    |    |    |    |-- minimum: double (nullable = true)\n",
      " |    |    |    |    |-- payers_information: array (nullable = true)\n",
      " |    |    |    |    |    |-- element: struct (containsNull = true)\n",
      " |    |    |    |    |    |    |-- additional_payer_notes: string (nullable = true)\n",
      " |    |    |    |    |    |    |-- billing_class: string (nullable = true)\n",
      " |    |    |    |    |    |    |-- estimated_amount: double (nullable = true)\n",
      " |    |    |    |    |    |    |-- methodology: string (nullable = true)\n",
      " |    |    |    |    |    |    |-- pIdx: string (nullable = true)\n",
      " |    |    |    |    |    |    |-- payer_name: string (nullable = true)\n",
      " |    |    |    |    |    |    |-- plan_name: string (nullable = true)\n",
      " |    |    |    |    |    |    |-- standard_charge_dollar: double (nullable = true)\n",
      " |    |    |    |    |    |    |-- standard_charge_percentage: double (nullable = true)\n",
      " |    |    |    |    |-- setting: string (nullable = true)\n",
      " |-- tId: long (nullable = true)\n",
      " |-- version: string (nullable = true)\n",
      "\n"
     ]
    }
   ],
   "source": [
    "from pyspark.sql import SparkSession\n",
    "\n",
    "spark = SparkSession.builder \\\n",
    "    .appName(\"Healthcare Export\") \\\n",
    "    .config(\"spark.driver.memory\", \"8g\") \\\n",
    "    .config(\"spark.executor.memory\", \"4g\") \\\n",
    "    .config(\"spark.sql.catalog.local\", \"org.apache.iceberg.spark.SparkCatalog\") \\\n",
    "    .config(\"spark.sql.catalog.local.type\", \"hadoop\") \\\n",
    "    .config(\"spark.sql.catalog.local.warehouse\", \"/Users/neelkalavadiya/Practicum_Project_Local/iceberg_warehouse\") \\\n",
    "    .config(\"spark.sql.extensions\", \"org.apache.iceberg.spark.extensions.IcebergSparkSessionExtensions\") \\\n",
    "    .getOrCreate()\n",
    "\n",
    "# Suppress all WARNs logs\n",
    "spark.sparkContext.setLogLevel(\"ERROR\")\n",
    "\n",
    "\n",
    "# Step 2: Define the path to your JSON file\n",
    "json_path = \"/Users/neelkalavadiya/Practicum_Project_Local/iceberg_warehouse/raw_dataset/TX/SantaRosa_Hospital_MedicalCenter_SA_TX.json\"\n",
    "\n",
    "# Step 3: Read the JSON file with multiline support\n",
    "df = spark.read.option(\"multiline\", \"true\").json(json_path)\n",
    "\n",
    "# Step 4: Print the schema in tree format\n",
    "df.printSchema()"
   ]
  },
  {
   "cell_type": "code",
   "execution_count": 3,
   "id": "aba706fd-cd64-49c0-a621-22ff178fe22e",
   "metadata": {},
   "outputs": [],
   "source": [
    "from pyspark.sql import SparkSession\n",
    "from pyspark.sql.functions import col, explode_outer\n",
    "# Step 2: Explode standard_charge_information\n",
    "df_exp_1 = df.select(\n",
    "    col(\"pId\").alias(\"provider_id\"),\n",
    "    col(\"hospital_name\"),\n",
    "    col(\"hospital_address\")[0].alias(\"hospital_address\"),\n",
    "    col(\"hospital_location\")[0].alias(\"hospital_location\"),\n",
    "    col(\"last_updated_on\"),\n",
    "    col(\"license_information.license_number\").alias(\"license_number\"),\n",
    "    col(\"license_information.state\").alias(\"license_state\"),\n",
    "    explode_outer(\"standard_charge_information\").alias(\"sci\")\n",
    ")"
   ]
  },
  {
   "cell_type": "code",
   "execution_count": 4,
   "id": "fbe6c883-4e44-4e9b-82af-01297e2fae97",
   "metadata": {},
   "outputs": [],
   "source": [
    "# Step 3: Extract inside sci and explode code_information\n",
    "df_exp_2 = df_exp_1.select(\n",
    "    \"*\",\n",
    "    col(\"sci.description\").alias(\"service_description\"),\n",
    "    col(\"sci.drug_information.type\").alias(\"drug_type\"),\n",
    "    col(\"sci.drug_information.unit\").alias(\"drug_unit\"),\n",
    "    explode_outer(\"sci.code_information\").alias(\"code_info\"),\n",
    "    col(\"sci.standard_charges\").alias(\"standard_charges\")\n",
    ")"
   ]
  },
  {
   "cell_type": "code",
   "execution_count": 5,
   "id": "07a47e91-0c0c-481a-a466-e75002729c24",
   "metadata": {},
   "outputs": [],
   "source": [
    "# Step 4: Extract code and explode standard_charges\n",
    "df_exp_3 = df_exp_2.select(\n",
    "    \"*\",\n",
    "    col(\"code_info.code\").alias(\"code\"),\n",
    "    col(\"code_info.modifiers\").alias(\"modifiers\"),\n",
    "    col(\"code_info.type\").alias(\"code_type\"),\n",
    "    explode_outer(\"standard_charges\").alias(\"charge\")\n",
    ")"
   ]
  },
  {
   "cell_type": "code",
   "execution_count": 6,
   "id": "21d254b0-cfc6-4c7e-94da-0918b90fb0f6",
   "metadata": {},
   "outputs": [],
   "source": [
    "from pyspark.sql.functions import col, explode_outer\n",
    "\n",
    "# Step 5: Extract final fields from exploded payer struct\n",
    "df_flat = df_exp_3.select(\n",
    "    \"provider_id\", \"hospital_name\", \"hospital_address\", \"hospital_location\", \"last_updated_on\",\n",
    "    \"license_number\", \"license_state\", \"service_description\", \"drug_type\", \"drug_unit\",\n",
    "    \"code\", \"modifiers\", \"code_type\",\n",
    "    col(\"charge.setting\").alias(\"care_setting\"),\n",
    "    col(\"charge.gross_charge\"),\n",
    "    col(\"charge.discounted_cash\"),\n",
    "    col(\"charge.minimum\").alias(\"min_charge\"),\n",
    "    col(\"charge.maximum\").alias(\"max_charge\"),\n",
    "    explode_outer(\"charge.payers_information\").alias(\"payer\")\n",
    ").select(\n",
    "    \"provider_id\", \"hospital_name\", \"hospital_address\", \"hospital_location\", \"last_updated_on\",\n",
    "    \"license_number\", \"license_state\", \"service_description\", \"drug_type\", \"drug_unit\",\n",
    "    \"code\", \"modifiers\", \"code_type\", \"care_setting\", \"gross_charge\", \"discounted_cash\",\n",
    "    \"min_charge\", \"max_charge\",\n",
    "    col(\"payer.payer_name\").alias(\"payer_name\"),\n",
    "    col(\"payer.plan_name\").alias(\"plan_name\"),\n",
    "    col(\"payer.billing_class\").alias(\"billing_class\"),\n",
    "    col(\"payer.methodology\").alias(\"methodology\"),\n",
    "    col(\"payer.standard_charge_dollar\").alias(\"standard_charge_dollar\"),\n",
    "    col(\"payer.standard_charge_percentage\").alias(\"standard_charge_percentage\"),\n",
    "    col(\"payer.additional_payer_notes\").alias(\"additional_payer_notes\"),\n",
    "    col(\"payer.pIdx\").alias(\"payer_id\")  # Keep only valid fields\n",
    ")"
   ]
  },
  {
   "cell_type": "code",
   "execution_count": 7,
   "id": "587be146-6643-4d3a-88fc-4c102d78c873",
   "metadata": {},
   "outputs": [
    {
     "name": "stderr",
     "output_type": "stream",
     "text": [
      "                                                                                "
     ]
    }
   ],
   "source": [
    "parquet_path = \"/Users/neelkalavadiya/Practicum_Project_Local/iceberg_warehouse/checkpoint_parquet/ingestion/santa_rosa_medical_center.parquet\"\n",
    "\n",
    "df_flat = df_flat.repartition(200)\n",
    "df_flat.write.mode(\"overwrite\").parquet(parquet_path)"
   ]
  },
  {
   "cell_type": "code",
   "execution_count": 8,
   "id": "a56d3b46-62cd-4293-90f1-9e6c5dc12dd2",
   "metadata": {},
   "outputs": [],
   "source": [
    "df_read_back = spark.read.parquet(parquet_path)"
   ]
  },
  {
   "cell_type": "code",
   "execution_count": 9,
   "id": "d5176763-61ed-421b-aeb6-e0acbedf3ae2",
   "metadata": {},
   "outputs": [
    {
     "data": {
      "text/plain": [
       "DataFrame[]"
      ]
     },
     "execution_count": 9,
     "metadata": {},
     "output_type": "execute_result"
    }
   ],
   "source": [
    "spark.sql(\"DROP TABLE IF EXISTS local.bronze.santa_rosa_medical_center\")"
   ]
  },
  {
   "cell_type": "code",
   "execution_count": 10,
   "id": "6ad23655-5018-4087-a84a-7570cf99de96",
   "metadata": {},
   "outputs": [
    {
     "name": "stderr",
     "output_type": "stream",
     "text": [
      "                                                                                "
     ]
    }
   ],
   "source": [
    "df_read_back.writeTo(\"local.bronze.santa_rosa_medical_center\") \\\n",
    "    .using(\"iceberg\") \\\n",
    "    .tableProperty(\"format-version\", \"2\") \\\n",
    "    .createOrReplace()"
   ]
  },
  {
   "cell_type": "code",
   "execution_count": 11,
   "id": "e312de08-b3ce-4651-b64c-0d65bd6dfe7e",
   "metadata": {},
   "outputs": [
    {
     "name": "stdout",
     "output_type": "stream",
     "text": [
      "+---------+----------------------------+-----------+\n",
      "|namespace|tableName                   |isTemporary|\n",
      "+---------+----------------------------+-----------+\n",
      "|bronze   |santa_rosa_medical_center   |false      |\n",
      "|bronze   |baptist_medical_center_sa_tx|false      |\n",
      "+---------+----------------------------+-----------+\n",
      "\n",
      "+-------------------+---------+-------+\n",
      "|           col_name|data_type|comment|\n",
      "+-------------------+---------+-------+\n",
      "|        provider_id|   string|   null|\n",
      "|      hospital_name|   string|   null|\n",
      "|   hospital_address|   string|   null|\n",
      "|  hospital_location|   string|   null|\n",
      "|    last_updated_on|   string|   null|\n",
      "|     license_number|   string|   null|\n",
      "|      license_state|   string|   null|\n",
      "|service_description|   string|   null|\n",
      "|          drug_type|   string|   null|\n",
      "|          drug_unit|   string|   null|\n",
      "|               code|   string|   null|\n",
      "|          modifiers|   string|   null|\n",
      "|          code_type|   string|   null|\n",
      "|       care_setting|   string|   null|\n",
      "|       gross_charge|   double|   null|\n",
      "|    discounted_cash|   double|   null|\n",
      "|         min_charge|   double|   null|\n",
      "|         max_charge|   double|   null|\n",
      "|         payer_name|   string|   null|\n",
      "|          plan_name|   string|   null|\n",
      "+-------------------+---------+-------+\n",
      "only showing top 20 rows\n",
      "\n"
     ]
    }
   ],
   "source": [
    "spark.sql(\"SHOW TABLES IN local.bronze\").show(truncate=False)\n",
    "spark.sql(\"DESCRIBE TABLE local.bronze.santa_rosa_medical_center\").show()\n"
   ]
  },
  {
   "cell_type": "code",
   "execution_count": 12,
   "id": "bf38f34e-fdd6-4aa0-944a-7d38731ce75e",
   "metadata": {},
   "outputs": [
    {
     "name": "stderr",
     "output_type": "stream",
     "text": [
      "[Stage 8:>                                                          (0 + 1) / 1]"
     ]
    },
    {
     "name": "stdout",
     "output_type": "stream",
     "text": [
      "+--------------------------------------------------------------------------------------------------------------------------------------------+\n",
      "|service_description                                                                                                                         |\n",
      "+--------------------------------------------------------------------------------------------------------------------------------------------+\n",
      "|LIDOCAINE PF (XYLOCAINE MPF) 1 % INJECTION                                                                                                  |\n",
      "|OTHER PROCEDURE ON LUNG AND LUNG LINING                                                                                                     |\n",
      "|TEST SOCKET HEMIPELVECTOMY; PROSTHETICS, ORTHOTICS, AND SUPPLIES                                                                            |\n",
      "|DETECTION OF 8 AUTOANTIBODIES IN PROSTATE TISSUE                                                                                            |\n",
      "|ONDANSETRON (ZOFRAN) BAG 12 MG                                                                                                              |\n",
      "|RESPIRATORY SUCTION PUMP, HOME MODEL, PORTABLE OR STATIONARY, ELECTRIC                                                                      |\n",
      "|PLACEMENT OF (MORE THAN 4 CENTIMETER LENGTH) HEAD OR NECK NERVE GRAFT                                                                       |\n",
      "|NERVE TRANSMISSION STUDIES, 1-2 STUDIES                                                                                                     |\n",
      "|PT EVAL LOW 112-126                                                                                                                         |\n",
      "|REPAIR OF DEFECT OF ROOF OF MOUTH, MAJOR REVISION                                                                                           |\n",
      "|PATIENTS WHO USE HOSPICE SERVICES ANY TIME DURING THE MEASUREMENT PERIOD                                                                    |\n",
      "|TRANSPLANTATION OF TISSUE FROM ONE CORNEA TO OTHER CORNEA, PENETRATING (EXCEPT IN APHAKIA OR PSEUDOPHAKIA)                                  |\n",
      "|ADD PROC NEW CROWN XST PART DENTURE                                                                                                         |\n",
      "|ADDITION, EXOSKELETAL KNEE-SHIN SYSTEM, SINGLE AXIS, VARIABLE FRICTION SWING PHASE CONTROL                                                  |\n",
      "|COMPLEX EXTRACAPSULAR REMOVAL OF CATARACT WITH INSERTION OF ARTIFICIAL LENS AND INSERTION OF DRAINAGE DEVICE IN FRONT CHAMBER OF EYE        |\n",
      "|REMOTE MONITORING OF PHYSIOLOGIC PARAMETERS, INITIAL SUPPLY OF DEVICES WITH DAILY RECORDINGS OR PROGRAMMED ALERTS TRANSMISSION, EACH 30 DAYS|\n",
      "|GAMMAGLOBULIN IGA BLOOD                                                                                                                     |\n",
      "|REPLACE TRILATERAL SOCKET BR; PROSTHETICS, ORTHOTICS, AND SUPPLIES                                                                          |\n",
      "|VANCOMYCIN (VANCOCIN) 1,250 MG IN SODIUM CHLORIDE 0.9 % 250 ML IVPB                                                                         |\n",
      "|GENE ANALYSIS (CCAAT/ENHANCER BINDING PROTEIN [C/EBP], ALPHA) FULL GENE SEQUENCE                                                            |\n",
      "+--------------------------------------------------------------------------------------------------------------------------------------------+\n",
      "only showing top 20 rows\n",
      "\n"
     ]
    },
    {
     "name": "stderr",
     "output_type": "stream",
     "text": [
      "                                                                                "
     ]
    }
   ],
   "source": [
    "spark.sql(\"Select DISTINCT(service_description) From local.bronze.santa_rosa_medical_center LIMIT 100\").show(truncate=False)\n",
    "\n"
   ]
  },
  {
   "cell_type": "code",
   "execution_count": null,
   "id": "84cdc151-0da0-4027-8027-0044215df20b",
   "metadata": {},
   "outputs": [],
   "source": []
  }
 ],
 "metadata": {
  "kernelspec": {
   "display_name": "Python 3 (ipykernel)",
   "language": "python",
   "name": "python3"
  },
  "language_info": {
   "codemirror_mode": {
    "name": "ipython",
    "version": 3
   },
   "file_extension": ".py",
   "mimetype": "text/x-python",
   "name": "python",
   "nbconvert_exporter": "python",
   "pygments_lexer": "ipython3",
   "version": "3.9.22"
  }
 },
 "nbformat": 4,
 "nbformat_minor": 5
}
