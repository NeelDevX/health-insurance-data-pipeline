{
 "cells": [
  {
   "cell_type": "code",
   "execution_count": 1,
   "id": "12d8f857-2eb7-4dbb-902a-8e98b046e3bf",
   "metadata": {},
   "outputs": [
    {
     "name": "stderr",
     "output_type": "stream",
     "text": [
      "Setting default log level to \"WARN\".\n",
      "To adjust logging level use sc.setLogLevel(newLevel). For SparkR, use setLogLevel(newLevel).\n",
      "25/04/29 23:12:17 WARN NativeCodeLoader: Unable to load native-hadoop library for your platform... using builtin-java classes where applicable\n"
     ]
    }
   ],
   "source": [
    "from pyspark.sql import SparkSession\n",
    "\n",
    "spark = SparkSession.builder \\\n",
    "    .appName(\"Healthcare Export\") \\\n",
    "    .config(\"spark.driver.memory\", \"8g\") \\\n",
    "    .config(\"spark.executor.memory\", \"4g\") \\\n",
    "    .config(\"spark.sql.catalog.local\", \"org.apache.iceberg.spark.SparkCatalog\") \\\n",
    "    .config(\"spark.sql.catalog.local.type\", \"hadoop\") \\\n",
    "    .config(\"spark.sql.catalog.local.warehouse\", \"/Users/neelkalavadiya/Practicum_Project_Local/iceberg_warehouse\") \\\n",
    "    .config(\"spark.sql.extensions\", \"org.apache.iceberg.spark.extensions.IcebergSparkSessionExtensions\") \\\n",
    "    .getOrCreate()\n",
    "\n",
    "# Suppress all WARNs logs\n",
    "spark.sparkContext.setLogLevel(\"ERROR\")"
   ]
  },
  {
   "cell_type": "code",
   "execution_count": 3,
   "id": "e352103d-78d2-4a41-82b7-adee22edb36d",
   "metadata": {},
   "outputs": [
    {
     "name": "stderr",
     "output_type": "stream",
     "text": [
      "                                                                                "
     ]
    },
    {
     "name": "stdout",
     "output_type": "stream",
     "text": [
      "root\n",
      " |-- affirmation: struct (nullable = true)\n",
      " |    |-- affirmation: string (nullable = true)\n",
      " |    |-- confirm_affirmation: boolean (nullable = true)\n",
      " |-- hospital_address: array (nullable = true)\n",
      " |    |-- element: string (containsNull = true)\n",
      " |-- hospital_location: array (nullable = true)\n",
      " |    |-- element: string (containsNull = true)\n",
      " |-- hospital_name: string (nullable = true)\n",
      " |-- last_updated_on: string (nullable = true)\n",
      " |-- license_information: struct (nullable = true)\n",
      " |    |-- license: string (nullable = true)\n",
      " |    |-- state: string (nullable = true)\n",
      " |-- pId: string (nullable = true)\n",
      " |-- standard_charge_information: array (nullable = true)\n",
      " |    |-- element: struct (containsNull = true)\n",
      " |    |    |-- code_information: array (nullable = true)\n",
      " |    |    |    |-- element: struct (containsNull = true)\n",
      " |    |    |    |    |-- code: string (nullable = true)\n",
      " |    |    |    |    |-- modifiers: string (nullable = true)\n",
      " |    |    |    |    |-- type: string (nullable = true)\n",
      " |    |    |-- description: string (nullable = true)\n",
      " |    |    |-- standard_charges: array (nullable = true)\n",
      " |    |    |    |-- element: struct (containsNull = true)\n",
      " |    |    |    |    |-- additional_generic_notes: string (nullable = true)\n",
      " |    |    |    |    |-- discounted_cash: double (nullable = true)\n",
      " |    |    |    |    |-- gross_charge: double (nullable = true)\n",
      " |    |    |    |    |-- maximum: long (nullable = true)\n",
      " |    |    |    |    |-- minimum: long (nullable = true)\n",
      " |    |    |    |    |-- payers_information: array (nullable = true)\n",
      " |    |    |    |    |    |-- element: struct (containsNull = true)\n",
      " |    |    |    |    |    |    |-- additional_payer_notes: string (nullable = true)\n",
      " |    |    |    |    |    |    |-- billing_class: string (nullable = true)\n",
      " |    |    |    |    |    |    |-- methodology: string (nullable = true)\n",
      " |    |    |    |    |    |    |-- payer_name: string (nullable = true)\n",
      " |    |    |    |    |    |    |-- plan_name: string (nullable = true)\n",
      " |    |    |    |    |    |    |-- standard_charge_algorithm: string (nullable = true)\n",
      " |    |    |    |    |    |    |-- standard_charge_dollar: long (nullable = true)\n",
      " |    |    |    |    |    |    |-- standard_charge_percentage: long (nullable = true)\n",
      " |    |    |    |    |-- setting: string (nullable = true)\n",
      " |-- version: string (nullable = true)\n",
      "\n"
     ]
    }
   ],
   "source": [
    "# Read the JSON\n",
    "json_path = \"/Users/neelkalavadiya/Practicum_Project_Local/iceberg_warehouse/raw_dataset/TX/Baptist_Medical_Center_SA_TX.json\"\n",
    "df = spark.read.option(\"multiline\", \"true\").json(json_path)\n",
    "df.printSchema()"
   ]
  },
  {
   "cell_type": "code",
   "execution_count": 4,
   "id": "aba706fd-cd64-49c0-a621-22ff178fe22e",
   "metadata": {},
   "outputs": [],
   "source": [
    "#Explode standard_charge_information\n",
    "from pyspark.sql.functions import col, explode\n",
    "\n",
    "df_exploded = df.select(\n",
    "    col(\"pId\").alias(\"provider_id\"),\n",
    "    col(\"hospital_name\"),\n",
    "    col(\"hospital_address\")[0].alias(\"hospital_address\"),\n",
    "    col(\"hospital_location\")[0].alias(\"hospital_location\"),\n",
    "    col(\"last_updated_on\"),\n",
    "    col(\"license_information.license\").alias(\"license_number\"),\n",
    "    col(\"license_information.state\").alias(\"license_state\"),\n",
    "    explode(\"standard_charge_information\").alias(\"sci\")\n",
    ")"
   ]
  },
  {
   "cell_type": "code",
   "execution_count": 5,
   "id": "f963a762-20ad-47ee-9908-e66590a37409",
   "metadata": {},
   "outputs": [],
   "source": [
    "#Explode code_information\n",
    "df_code = df_exploded.select(\n",
    "    \"*\",\n",
    "    col(\"sci.description\").alias(\"service_description\"),\n",
    "    explode(\"sci.code_information\").alias(\"code_info\"),\n",
    "    col(\"sci.standard_charges\").alias(\"charge_arr\")\n",
    ")"
   ]
  },
  {
   "cell_type": "code",
   "execution_count": 6,
   "id": "e05792d7-9633-4947-b60c-1b902e119d37",
   "metadata": {},
   "outputs": [],
   "source": [
    "#Explode standard_charges\n",
    "df_charges = df_code.select(\n",
    "    \"*\",\n",
    "    col(\"code_info.code\").alias(\"code\"),\n",
    "    col(\"code_info.modifiers\").alias(\"modifiers\"),\n",
    "    col(\"code_info.type\").alias(\"code_type\"),\n",
    "    explode(\"charge_arr\").alias(\"charge\")\n",
    ")"
   ]
  },
  {
   "cell_type": "code",
   "execution_count": 7,
   "id": "8c9870a5-de4a-43fe-98f4-d005e2739f43",
   "metadata": {},
   "outputs": [],
   "source": [
    "#Explode payers_information\n",
    "df_final_flat = df_charges.select(\n",
    "    \"provider_id\", \"hospital_name\", \"hospital_address\", \"hospital_location\",\n",
    "    \"last_updated_on\", \"license_number\", \"license_state\", \"service_description\",\n",
    "    \"code\", \"modifiers\", \"code_type\",\n",
    "    col(\"charge.setting\").alias(\"care_setting\"),\n",
    "    col(\"charge.gross_charge\"),\n",
    "    col(\"charge.discounted_cash\"),\n",
    "    col(\"charge.minimum\").alias(\"min_charge\"),\n",
    "    col(\"charge.maximum\").alias(\"max_charge\"),\n",
    "    explode(\"charge.payers_information\").alias(\"payer\")\n",
    ").select(\n",
    "    \"*\",\n",
    "    col(\"payer.payer_name\"),\n",
    "    col(\"payer.plan_name\"),\n",
    "    col(\"payer.billing_class\"),\n",
    "    col(\"payer.methodology\"),\n",
    "    col(\"payer.standard_charge_dollar\"),\n",
    "    col(\"payer.standard_charge_percentage\"),\n",
    "    col(\"payer.additional_payer_notes\"),\n",
    "    col(\"payer.standard_charge_algorithm\")\n",
    ")"
   ]
  },
  {
   "cell_type": "code",
   "execution_count": 8,
   "id": "587be146-6643-4d3a-88fc-4c102d78c873",
   "metadata": {},
   "outputs": [
    {
     "name": "stderr",
     "output_type": "stream",
     "text": [
      "                                                                                "
     ]
    }
   ],
   "source": [
    "parquet_path = \"/Users/neelkalavadiya/Practicum_Project_Local/iceberg_warehouse/checkpoint_parquet/ingestion/baptist_medical_center_SA.parquet\"\n",
    "df_final_flat.write.mode(\"overwrite\").parquet(parquet_path)\n"
   ]
  },
  {
   "cell_type": "code",
   "execution_count": 9,
   "id": "a56d3b46-62cd-4293-90f1-9e6c5dc12dd2",
   "metadata": {},
   "outputs": [],
   "source": [
    "parquet_path = \"/Users/neelkalavadiya/Practicum_Project_Local/iceberg_warehouse/checkpoint_parquet/ingestion/baptist_medical_center_SA.parquet\"\n",
    "df_read_back = spark.read.parquet(parquet_path)"
   ]
  },
  {
   "cell_type": "code",
   "execution_count": 10,
   "id": "d5176763-61ed-421b-aeb6-e0acbedf3ae2",
   "metadata": {},
   "outputs": [
    {
     "data": {
      "text/plain": [
       "DataFrame[]"
      ]
     },
     "execution_count": 10,
     "metadata": {},
     "output_type": "execute_result"
    }
   ],
   "source": [
    "spark.sql(\"DROP TABLE IF EXISTS local.bronze.baptist_medical_center\")\n"
   ]
  },
  {
   "cell_type": "code",
   "execution_count": 11,
   "id": "87a2f998-759e-43d4-892a-f2a475fb1613",
   "metadata": {},
   "outputs": [
    {
     "data": {
      "text/plain": [
       "DataFrame[]"
      ]
     },
     "execution_count": 11,
     "metadata": {},
     "output_type": "execute_result"
    }
   ],
   "source": [
    "spark.sql(\"CREATE NAMESPACE IF NOT EXISTS local.bronze\")\n"
   ]
  },
  {
   "cell_type": "code",
   "execution_count": 12,
   "id": "6ad23655-5018-4087-a84a-7570cf99de96",
   "metadata": {},
   "outputs": [
    {
     "name": "stderr",
     "output_type": "stream",
     "text": [
      "                                                                                "
     ]
    }
   ],
   "source": [
    "df_read_back.writeTo(\"local.bronze.baptist_medical_center\") \\\n",
    "    .using(\"iceberg\") \\\n",
    "    .tableProperty(\"format-version\", \"2\") \\\n",
    "    .createOrReplace()\n"
   ]
  },
  {
   "cell_type": "code",
   "execution_count": 13,
   "id": "cd538edb-120c-4464-96ae-3ff4af6b66bf",
   "metadata": {},
   "outputs": [
    {
     "name": "stdout",
     "output_type": "stream",
     "text": [
      "+---------+----------------------+-----------+\n",
      "|namespace|tableName             |isTemporary|\n",
      "+---------+----------------------+-----------+\n",
      "|bronze   |baptist_medical_center|false      |\n",
      "+---------+----------------------+-----------+\n",
      "\n",
      "+-------------------+--------------------+-------+\n",
      "|           col_name|           data_type|comment|\n",
      "+-------------------+--------------------+-------+\n",
      "|        provider_id|              string|   null|\n",
      "|      hospital_name|              string|   null|\n",
      "|   hospital_address|              string|   null|\n",
      "|  hospital_location|              string|   null|\n",
      "|    last_updated_on|              string|   null|\n",
      "|     license_number|              string|   null|\n",
      "|      license_state|              string|   null|\n",
      "|service_description|              string|   null|\n",
      "|               code|              string|   null|\n",
      "|          modifiers|              string|   null|\n",
      "|          code_type|              string|   null|\n",
      "|       care_setting|              string|   null|\n",
      "|       gross_charge|              double|   null|\n",
      "|    discounted_cash|              double|   null|\n",
      "|         min_charge|              bigint|   null|\n",
      "|         max_charge|              bigint|   null|\n",
      "|              payer|struct<additional...|   null|\n",
      "|         payer_name|              string|   null|\n",
      "|          plan_name|              string|   null|\n",
      "|      billing_class|              string|   null|\n",
      "+-------------------+--------------------+-------+\n",
      "only showing top 20 rows\n",
      "\n"
     ]
    }
   ],
   "source": [
    "spark.sql(\"SHOW TABLES IN local.bronze\").show(truncate=False)\n",
    "spark.sql(\"DESCRIBE TABLE local.bronze.baptist_medical_center\").show()\n"
   ]
  },
  {
   "cell_type": "code",
   "execution_count": 3,
   "id": "a77e47e3-a132-414c-8403-3e3621338d2e",
   "metadata": {},
   "outputs": [
    {
     "name": "stderr",
     "output_type": "stream",
     "text": [
      "                                                                                "
     ]
    },
    {
     "name": "stdout",
     "output_type": "stream",
     "text": [
      "+---------+--------------------------------------+-----------+\n",
      "|namespace|tableName                             |isTemporary|\n",
      "+---------+--------------------------------------+-----------+\n",
      "|bronze   |resolute_health_hospital_sa_tx        |false      |\n",
      "|bronze   |northcentral_baptist_hospital_sa_tx   |false      |\n",
      "|bronze   |missiontrail_baptist_hospital_sa_tx   |false      |\n",
      "|bronze   |santarosa_hospital_medicalcenter_sa_tx|false      |\n",
      "|bronze   |resolute_baptist_hospital_nb_tx       |false      |\n",
      "|bronze   |santarosa_hospital_westoverhills_sa_tx|false      |\n",
      "|bronze   |santa_rosa_nb_tx                      |false      |\n",
      "+---------+--------------------------------------+-----------+\n",
      "\n"
     ]
    }
   ],
   "source": [
    "spark.sql(\"SHOW TABLES IN local.bronze\").show(truncate=False)"
   ]
  },
  {
   "cell_type": "code",
   "execution_count": 6,
   "id": "a279c61b-0105-4869-892a-e3fdf93adf15",
   "metadata": {},
   "outputs": [
    {
     "name": "stdout",
     "output_type": "stream",
     "text": [
      "Dropping table: local.gold.dim_hospital\n",
      "Dropping table: local.gold.dim_payer\n",
      "Dropping table: local.gold.dim_procedure\n",
      "Dropping table: local.gold.fact_charges\n"
     ]
    }
   ],
   "source": [
    "tables = spark.sql(\"SHOW TABLES IN local.bronze\").collect()\n",
    "\n",
    "for row in tables:\n",
    "    table_name = row[\"tableName\"]\n",
    "    full_name = f\"local.gold.{table_name}\"\n",
    "    print(f\"Dropping table: {full_name}\")\n",
    "    spark.sql(f\"DROP TABLE IF EXISTS {full_name}\")\n"
   ]
  },
  {
   "cell_type": "code",
   "execution_count": null,
   "id": "5dd8e237-17c5-462f-9b7a-309d950974f8",
   "metadata": {},
   "outputs": [],
   "source": []
  }
 ],
 "metadata": {
  "kernelspec": {
   "display_name": "Python 3 (ipykernel)",
   "language": "python",
   "name": "python3"
  },
  "language_info": {
   "codemirror_mode": {
    "name": "ipython",
    "version": 3
   },
   "file_extension": ".py",
   "mimetype": "text/x-python",
   "name": "python",
   "nbconvert_exporter": "python",
   "pygments_lexer": "ipython3",
   "version": "3.9.22"
  }
 },
 "nbformat": 4,
 "nbformat_minor": 5
}
