{
 "cells": [
  {
   "cell_type": "code",
   "execution_count": 3,
   "id": "58604d80-ec2b-4545-aec1-b11f955d5730",
   "metadata": {},
   "outputs": [
    {
     "name": "stderr",
     "output_type": "stream",
     "text": [
      "25/05/06 10:23:51 WARN Utils: Your hostname, NEELs-MacBook-Air.local resolves to a loopback address: 127.0.0.1; using 10.190.186.140 instead (on interface en0)\n",
      "25/05/06 10:23:51 WARN Utils: Set SPARK_LOCAL_IP if you need to bind to another address\n",
      "Setting default log level to \"WARN\".\n",
      "To adjust logging level use sc.setLogLevel(newLevel). For SparkR, use setLogLevel(newLevel).\n",
      "25/05/06 10:23:52 WARN NativeCodeLoader: Unable to load native-hadoop library for your platform... using builtin-java classes where applicable\n"
     ]
    }
   ],
   "source": [
    "from pyspark.sql import SparkSession\n",
    "\n",
    "spark = SparkSession.builder \\\n",
    "    .appName(\"Healthcare Export\") \\\n",
    "    .config(\"spark.driver.memory\", \"8g\") \\\n",
    "    .config(\"spark.executor.memory\", \"4g\") \\\n",
    "    .config(\"spark.sql.catalog.local\", \"org.apache.iceberg.spark.SparkCatalog\") \\\n",
    "    .config(\"spark.sql.catalog.local.type\", \"hadoop\") \\\n",
    "    .config(\"spark.sql.catalog.local.warehouse\", \"/Users/neelkalavadiya/Practicum_Project_Local/iceberg_warehouse\") \\\n",
    "    .config(\"spark.sql.extensions\", \"org.apache.iceberg.spark.extensions.IcebergSparkSessionExtensions\") \\\n",
    "    .getOrCreate()\n",
    "\n",
    "# Suppress all WARNs logs\n",
    "spark.sparkContext.setLogLevel(\"ERROR\")"
   ]
  },
  {
   "cell_type": "code",
   "execution_count": 4,
   "id": "d547d2df-fbed-4a59-acec-8d322a9b69d0",
   "metadata": {},
   "outputs": [
    {
     "name": "stdout",
     "output_type": "stream",
     "text": [
      "root\n",
      " |-- hospital_name: string (nullable = true)\n",
      " |-- provider_id: integer (nullable = true)\n",
      " |-- license_number: integer (nullable = true)\n",
      " |-- license_state: string (nullable = true)\n",
      " |-- hospital_address: string (nullable = true)\n",
      " |-- last_updated_on: date (nullable = true)\n",
      " |-- description: string (nullable = true)\n",
      " |-- code | 1: string (nullable = true)\n",
      " |-- code | 1 | type: string (nullable = true)\n",
      " |-- code | 2: integer (nullable = true)\n",
      " |-- code | 2 | type: string (nullable = true)\n",
      " |-- code | 3: integer (nullable = true)\n",
      " |-- code | 3 | type: string (nullable = true)\n",
      " |-- code | 4: string (nullable = true)\n",
      " |-- code | 4 | type: string (nullable = true)\n",
      " |-- code | 5: string (nullable = true)\n",
      " |-- code | 5 | type: string (nullable = true)\n",
      " |-- code | 6: integer (nullable = true)\n",
      " |-- code | 6 | type: string (nullable = true)\n",
      " |-- setting: string (nullable = true)\n",
      " |-- drug_unit_of_measurement: string (nullable = true)\n",
      " |-- drug_type_of_measurement: string (nullable = true)\n",
      " |-- standard_charge | gross: double (nullable = true)\n",
      " |-- standard_charge | discounted_cash: double (nullable = true)\n",
      " |-- payer_name: string (nullable = true)\n",
      " |-- plan_name: string (nullable = true)\n",
      " |-- modifiers: integer (nullable = true)\n",
      " |-- standard_charge | negotiated_dollar: double (nullable = true)\n",
      " |-- standard_charge | negotiated_percentage: string (nullable = true)\n",
      " |-- standard_charge | negotiated_algorithm: string (nullable = true)\n",
      " |-- estimated_amount: double (nullable = true)\n",
      " |-- standard_charge | min: double (nullable = true)\n",
      " |-- standard_charge | max: double (nullable = true)\n",
      " |-- standard_charge | methodology: string (nullable = true)\n",
      " |-- additional_generic_notes: string (nullable = true)\n",
      " |-- billing_class: string (nullable = true)\n",
      "\n"
     ]
    }
   ],
   "source": [
    "csv_path = \"/Users/neelkalavadiya/Practicum_Project_Local/iceberg_warehouse/raw_dataset/TX/vernon_memorial.csv\"\n",
    "\n",
    "df = spark.read.option(\"header\", True).option(\"inferSchema\", True).csv(csv_path)\n",
    "\n",
    "df.printSchema()\n",
    "df.show()"
   ]
  },
  {
   "cell_type": "code",
   "execution_count": 7,
   "id": "55067d32-28a2-43f0-8151-d01b8178ec23",
   "metadata": {},
   "outputs": [
    {
     "name": "stdout",
     "output_type": "stream",
     "text": [
      "+--------------------+-----------+--------------+-------------+--------------------+---------------+--------------------+--------+---------------+--------+---------------+--------+---------------+--------+---------------+--------+---------------+--------+---------------+---------+------------------------+------------------------+-----------------------+---------------------------------+--------------------+--------------------+---------+-----------------------------------+---------------------------------------+--------------------------------------+----------------+---------------------+---------------------+-----------------------------+------------------------+-------------+\n",
      "|       hospital_name|provider_id|license_number|license_state|    hospital_address|last_updated_on|         description|code | 1|code | 1 | type|code | 2|code | 2 | type|code | 3|code | 3 | type|code | 4|code | 4 | type|code | 5|code | 5 | type|code | 6|code | 6 | type|  setting|drug_unit_of_measurement|drug_type_of_measurement|standard_charge | gross|standard_charge | discounted_cash|          payer_name|           plan_name|modifiers|standard_charge | negotiated_dollar|standard_charge | negotiated_percentage|standard_charge | negotiated_algorithm|estimated_amount|standard_charge | min|standard_charge | max|standard_charge | methodology|additional_generic_notes|billing_class|\n",
      "+--------------------+-----------+--------------+-------------+--------------------+---------------+--------------------+--------+---------------+--------+---------------+--------+---------------+--------+---------------+--------+---------------+--------+---------------+---------+------------------------+------------------------+-----------------------+---------------------------------+--------------------+--------------------+---------+-----------------------------------+---------------------------------------+--------------------------------------+----------------+---------------------+---------------------+-----------------------------+------------------------+-------------+\n",
      "|Vernon Memorial H...|     521348|          1053|           WI|507 South Main St...|     2025-01-01|HCHG VMH NURSERY/...|29005810|            CDM|     171|             RC|    null|           null|    null|           null|    null|           null|    null|           null|inpatient|                    null|                    null|                 1446.0|                           1229.1|COMPCARE HEALTH S...|Medicaid Managed ...|     null|                            1364.23|                                   null|                                  null|         1364.23|               760.77|               1390.0|                 Fee Schedule|                    null|     facility|\n",
      "|Vernon Memorial H...|     521348|          1053|           WI|507 South Main St...|     2025-01-01|HCHG VMH NURSERY/...|29005820|            CDM|     171|             RC|    null|           null|    null|           null|    null|           null|    null|           null|inpatient|                    null|                    null|                 1620.0|                           1377.0|COMPCARE HEALTH S...|Medicaid Managed ...|     null|                            1364.23|                                   null|                                  null|         1364.23|               760.77|               1390.0|                 Fee Schedule|                    null|     facility|\n",
      "|Vernon Memorial H...|     521348|          1053|           WI|507 South Main St...|     2025-01-01|HCHG VMH NURSERY/...|29005830|            CDM|     171|             RC|    null|           null|    null|           null|    null|           null|    null|           null|inpatient|                    null|                    null|                 1575.0|                          1338.75|COMPCARE HEALTH S...|Medicaid Managed ...|     null|                            1364.23|                                   null|                                  null|         1364.23|               760.77|               1390.0|                 Fee Schedule|                    null|     facility|\n",
      "|Vernon Memorial H...|     521348|          1053|           WI|507 South Main St...|     2025-01-01|HCHG VMH NURSERY/...|29005840|            CDM|     171|             RC|    null|           null|    null|           null|    null|           null|    null|           null|inpatient|                    null|                    null|                 1766.0|                           1501.1|COMPCARE HEALTH S...|Medicaid Managed ...|     null|                            1364.23|                                   null|                                  null|         1364.23|               760.77|               1390.0|                 Fee Schedule|                    null|     facility|\n",
      "|Vernon Memorial H...|     521348|          1053|           WI|507 South Main St...|     2025-01-01|NFECT DS RNA 4 TA...|22980057|            CDM|     306|             RC|    null|           null|   0241U|          HCPCS|    null|           null|    null|           null|     both|                    null|                    null|                  124.0|                            105.4|COMPCARE HEALTH S...|Medicaid Managed ...|     null|                              35.91|                                   null|                                  null|           35.91|                35.91|                119.0|                 Fee Schedule|                    null|     facility|\n",
      "|Vernon Memorial H...|     521348|          1053|           WI|507 South Main St...|     2025-01-01|HCHG VMH ER CLSD ...|20002318|            CDM|     450|             RC|   27252|            CPT|    null|           null|    null|           null|    null|           null|     both|                    null|                    null|                 5044.0|                           4287.4|COMPCARE HEALTH S...|Medicaid Managed ...|     null|                            1653.31|                                   null|                                  null|         1653.31|              1653.31|              1653.31|                 Fee Schedule|                    null|     facility|\n",
      "|Vernon Memorial H...|     521348|          1053|           WI|507 South Main St...|     2025-01-01|HCHG 36415 COLLEC...|20000390|            CDM|     300|             RC|   36415|            CPT|    null|           null|    null|           null|    null|           null|     both|                    null|                    null|                   34.0|                             28.9|COMPCARE HEALTH S...|Medicaid Managed ...|     null|                                4.6|                                   null|                                  null|             4.6|                  4.6|                31.36|                 Fee Schedule|                    null|     facility|\n",
      "|Vernon Memorial H...|     521348|          1053|           WI|507 South Main St...|     2025-01-01|HCHG LEGAL BLOOD/...|22980039|            CDM|     300|             RC|   36415|            CPT|    null|           null|    null|           null|    null|           null|     both|                    null|                    null|                  298.0|                            253.3|COMPCARE HEALTH S...|Medicaid Managed ...|     null|                                4.6|                                   null|                                  null|             4.6|                  4.6|                31.36|                 Fee Schedule|                    null|     facility|\n",
      "|Vernon Memorial H...|     521348|          1053|           WI|507 South Main St...|     2025-01-01|HCHG VMH EGD W/BI...|20005867|            CDM|     750|             RC|   43239|            CPT|    null|           null|    null|           null|    null|           null|     both|                    null|                    null|                 3693.0|                          3139.05|COMPCARE HEALTH S...|Medicaid Managed ...|     null|                            1662.69|                                   null|                                  null|         1662.69|              1233.16|              3340.48|                 Fee Schedule|                    null|     facility|\n",
      "|Vernon Memorial H...|     521348|          1053|           WI|507 South Main St...|     2025-01-01|HCHG VMH COLONOSC...|20005868|            CDM|     750|             RC|   45378|            CPT|    null|           null|    null|           null|    null|           null|     both|                    null|                    null|                 3197.0|                          2717.45|COMPCARE HEALTH S...|Medicaid Managed ...|     null|                            1688.18|                                   null|                                  null|         1688.18|              1688.18|               3016.0|                 Fee Schedule|                    null|     facility|\n",
      "|Vernon Memorial H...|     521348|          1053|           WI|507 South Main St...|     2025-01-01|HCHG VMH COLON SP...|20005869|            CDM|     750|             RC|   45380|            CPT|    null|           null|    null|           null|    null|           null|     both|                    null|                    null|                 3726.0|                           3167.1|COMPCARE HEALTH S...|Medicaid Managed ...|     null|                             1692.4|                                   null|                                  null|          1692.4|              1205.64|               3706.7|                 Fee Schedule|                    null|     facility|\n",
      "|Vernon Memorial H...|     521348|          1053|           WI|507 South Main St...|     2025-01-01|HCHG VMH COLON/TU...|20005870|            CDM|     750|             RC|   45385|            CPT|    null|           null|    null|           null|    null|           null|     both|                    null|                    null|                 4108.0|                           3491.8|COMPCARE HEALTH S...|Medicaid Managed ...|     null|                            1688.18|                                   null|                                  null|         1688.18|              1409.04|              3738.28|                 Fee Schedule|                    null|     facility|\n",
      "|Vernon Memorial H...|     521348|          1053|           WI|507 South Main St...|     2025-01-01|HCHG 54150 CIRCUM...|20001178|            CDM|     361|             RC|   54150|            CPT|    null|           null|    null|           null|    null|           null|     both|                    null|                    null|                  240.0|                            204.0|COMPCARE HEALTH S...|Medicaid Managed ...|     null|                              231.0|                                   null|                                  null|           231.0|               168.63|                231.0|                 Fee Schedule|                    null|     facility|\n",
      "|Vernon Memorial H...|     521348|          1053|           WI|507 South Main St...|     2025-01-01|HCHG 59025 FETAL ...|20000545|            CDM|     761|             RC|   59025|            CPT|    null|           null|    null|           null|    null|           null|     both|                    null|                    null|                  231.0|                           196.35|COMPCARE HEALTH S...|Medicaid Managed ...|     null|                              222.0|                                   null|                                  null|           222.0|               162.06|                222.0|                 Fee Schedule|                    null|     facility|\n",
      "|Vernon Memorial H...|     521348|          1053|           WI|507 South Main St...|     2025-01-01|HCHG 70030 EYE FO...|21800007|            CDM|     320|             RC|   70030|            CPT|    null|           null|    null|           null|    null|           null|     both|                    null|                    null|                  387.0|                           328.95|COMPCARE HEALTH S...|Medicaid Managed ...|     null|                              96.17|                                   null|                                  null|           96.17|                96.17|               327.36|                 Fee Schedule|                    null|     facility|\n",
      "|Vernon Memorial H...|     521348|          1053|           WI|507 South Main St...|     2025-01-01|HCHG 70450 CT HEA...|21000002|            CDM|     350|             RC|   70450|            CPT|    null|           null|    null|           null|    null|           null|     both|                    null|                    null|                 2288.0|                           1944.8|COMPCARE HEALTH S...|Medicaid Managed ...|     null|                             520.77|                                   null|                                  null|          520.77|               520.77|              2083.43|                 Fee Schedule|                    null|     facility|\n",
      "|Vernon Memorial H...|     521348|          1053|           WI|507 South Main St...|     2025-01-01|HCHG 70481 CT ORB...|21000006|            CDM|     350|             RC|   70481|            CPT|    null|           null|    null|           null|    null|           null|     both|                    null|                    null|                 2625.0|                          2231.25|COMPCARE HEALTH S...|Medicaid Managed ...|     null|                             538.78|                                   null|                                  null|          538.78|               538.78|                882.0|                 Fee Schedule|                    null|     facility|\n",
      "|Vernon Memorial H...|     521348|          1053|           WI|507 South Main St...|     2025-01-01|HCHG 70486 CT MAX...|21000009|            CDM|     350|             RC|   70486|            CPT|    null|           null|    null|           null|    null|           null|     both|                    null|                    null|                 2189.0|                          1860.65|COMPCARE HEALTH S...|Medicaid Managed ...|     null|                             182.82|                                   null|                                  null|          182.82|               182.82|              1897.35|                 Fee Schedule|                    null|     facility|\n",
      "|Vernon Memorial H...|     521348|          1053|           WI|507 South Main St...|     2025-01-01|HCHG 70491 CT NEC...|21000008|            CDM|     350|             RC|   70491|            CPT|    null|           null|    null|           null|    null|           null|     both|                    null|                    null|                 2625.0|                          2231.25|COMPCARE HEALTH S...|Medicaid Managed ...|     null|                             538.78|                                   null|                                  null|          538.78|               520.77|               2200.0|                 Fee Schedule|                    null|     facility|\n",
      "|Vernon Memorial H...|     521348|          1053|           WI|507 South Main St...|     2025-01-01|HCHG 70496 CT ANG...|21000035|            CDM|     350|             RC|   70496|            CPT|    null|           null|    null|           null|    null|           null|     both|                    null|                    null|                 5212.0|                           4430.2|COMPCARE HEALTH S...|Medicaid Managed ...|     null|                             665.89|                                   null|                                  null|          665.89|               636.28|              4368.32|                 Fee Schedule|                    null|     facility|\n",
      "+--------------------+-----------+--------------+-------------+--------------------+---------------+--------------------+--------+---------------+--------+---------------+--------+---------------+--------+---------------+--------+---------------+--------+---------------+---------+------------------------+------------------------+-----------------------+---------------------------------+--------------------+--------------------+---------+-----------------------------------+---------------------------------------+--------------------------------------+----------------+---------------------+---------------------+-----------------------------+------------------------+-------------+\n",
      "only showing top 20 rows\n",
      "\n"
     ]
    }
   ],
   "source": [
    "df.show()"
   ]
  },
  {
   "cell_type": "code",
   "execution_count": 6,
   "id": "493f3904-7918-4c32-8ea9-43cc8f7502e6",
   "metadata": {},
   "outputs": [
    {
     "name": "stdout",
     "output_type": "stream",
     "text": [
      "root\n",
      " |-- hospital_id: string (nullable = true)\n",
      " |-- hospital_name: string (nullable = true)\n",
      " |-- hospital_address: string (nullable = true)\n",
      " |-- hospital_location: string (nullable = true)\n",
      " |-- last_updated_on: string (nullable = true)\n",
      " |-- license_number: string (nullable = true)\n",
      " |-- license_state: string (nullable = true)\n",
      " |-- service_description: string (nullable = true)\n",
      " |-- code: string (nullable = true)\n",
      " |-- modifiers: string (nullable = true)\n",
      " |-- code_type: string (nullable = true)\n",
      " |-- care_setting: string (nullable = true)\n",
      " |-- gross_charge: double (nullable = true)\n",
      " |-- discounted_cash: double (nullable = true)\n",
      " |-- min_charge: long (nullable = true)\n",
      " |-- max_charge: long (nullable = true)\n",
      " |-- payer_name: string (nullable = true)\n",
      " |-- plan_name: string (nullable = true)\n",
      " |-- billing_class: string (nullable = true)\n",
      " |-- methodology: string (nullable = true)\n",
      " |-- standard_charge_dollar: long (nullable = true)\n",
      " |-- standard_charge_percentage: long (nullable = true)\n",
      " |-- additional_payer_notes: string (nullable = true)\n",
      " |-- standard_charge_algorithm: string (nullable = true)\n",
      "\n",
      "+-----------+------------------------+----------------------------------------+-----------------+---------------+--------------+-------------+---------------------------------------------------------+--------+---------+---------+------------+------------+---------------+----------+----------+-------------------------------------------+---------------------+-------------+------------+----------------------+--------------------------+----------------------+-------------------------+\n",
      "|hospital_id|hospital_name           |hospital_address                        |hospital_location|last_updated_on|license_number|license_state|service_description                                      |code    |modifiers|code_type|care_setting|gross_charge|discounted_cash|min_charge|max_charge|payer_name                                 |plan_name            |billing_class|methodology |standard_charge_dollar|standard_charge_percentage|additional_payer_notes|standard_charge_algorithm|\n",
      "+-----------+------------------------+----------------------------------------+-----------------+---------------+--------------+-------------+---------------------------------------------------------+--------+---------+---------+------------+------------+---------------+----------+----------+-------------------------------------------+---------------------+-------------+------------+----------------------+--------------------------+----------------------+-------------------------+\n",
      "|521348     |Vernon Memorial Hospital|507 South Main Street, Viroqua, WI 54665|null             |2025-01-01     |1053          |WI           |HCHG VMH NURSERY/NURSING TIER 1                          |29005810|null     |CDM      |inpatient   |1446.0      |1229.1         |760       |1390      |COMPCARE HEALTH SERVICE INS CORP - Medicaid|Medicaid Managed Care|facility     |Fee Schedule|1364                  |null                      |null                  |null                     |\n",
      "|521348     |Vernon Memorial Hospital|507 South Main Street, Viroqua, WI 54665|null             |2025-01-01     |1053          |WI           |HCHG VMH NURSERY/NURSING TIER 2                          |29005820|null     |CDM      |inpatient   |1620.0      |1377.0         |760       |1390      |COMPCARE HEALTH SERVICE INS CORP - Medicaid|Medicaid Managed Care|facility     |Fee Schedule|1364                  |null                      |null                  |null                     |\n",
      "|521348     |Vernon Memorial Hospital|507 South Main Street, Viroqua, WI 54665|null             |2025-01-01     |1053          |WI           |HCHG VMH NURSERY/NURSING TIER 3                          |29005830|null     |CDM      |inpatient   |1575.0      |1338.75        |760       |1390      |COMPCARE HEALTH SERVICE INS CORP - Medicaid|Medicaid Managed Care|facility     |Fee Schedule|1364                  |null                      |null                  |null                     |\n",
      "|521348     |Vernon Memorial Hospital|507 South Main Street, Viroqua, WI 54665|null             |2025-01-01     |1053          |WI           |HCHG VMH NURSERY/NURSING TIER 4                          |29005840|null     |CDM      |inpatient   |1766.0      |1501.1         |760       |1390      |COMPCARE HEALTH SERVICE INS CORP - Medicaid|Medicaid Managed Care|facility     |Fee Schedule|1364                  |null                      |null                  |null                     |\n",
      "|521348     |Vernon Memorial Hospital|507 South Main Street, Viroqua, WI 54665|null             |2025-01-01     |1053          |WI           |NFECT DS RNA 4 TARGETS UPPER RESP SPECIMEN               |22980057|null     |CDM      |both        |124.0       |105.4          |35        |119       |COMPCARE HEALTH SERVICE INS CORP - Medicaid|Medicaid Managed Care|facility     |Fee Schedule|35                    |null                      |null                  |null                     |\n",
      "|521348     |Vernon Memorial Hospital|507 South Main Street, Viroqua, WI 54665|null             |2025-01-01     |1053          |WI           |HCHG VMH ER CLSD TRMT HIP DISLOCATION, TRAUMATIC; W/ANEST|20002318|null     |CDM      |both        |5044.0      |4287.4         |1653      |1653      |COMPCARE HEALTH SERVICE INS CORP - Medicaid|Medicaid Managed Care|facility     |Fee Schedule|1653                  |null                      |null                  |null                     |\n",
      "|521348     |Vernon Memorial Hospital|507 South Main Street, Viroqua, WI 54665|null             |2025-01-01     |1053          |WI           |HCHG 36415 COLLECTION OF VENOUS BLOOD BY VENIPUNCTURE    |20000390|null     |CDM      |both        |34.0        |28.9           |4         |31        |COMPCARE HEALTH SERVICE INS CORP - Medicaid|Medicaid Managed Care|facility     |Fee Schedule|4                     |null                      |null                  |null                     |\n",
      "|521348     |Vernon Memorial Hospital|507 South Main Street, Viroqua, WI 54665|null             |2025-01-01     |1053          |WI           |HCHG LEGAL BLOOD/ETOH                                    |22980039|null     |CDM      |both        |298.0       |253.3          |4         |31        |COMPCARE HEALTH SERVICE INS CORP - Medicaid|Medicaid Managed Care|facility     |Fee Schedule|4                     |null                      |null                  |null                     |\n",
      "|521348     |Vernon Memorial Hospital|507 South Main Street, Viroqua, WI 54665|null             |2025-01-01     |1053          |WI           |HCHG VMH EGD W/BIOPSY                                    |20005867|null     |CDM      |both        |3693.0      |3139.05        |1233      |3340      |COMPCARE HEALTH SERVICE INS CORP - Medicaid|Medicaid Managed Care|facility     |Fee Schedule|1662                  |null                      |null                  |null                     |\n",
      "|521348     |Vernon Memorial Hospital|507 South Main Street, Viroqua, WI 54665|null             |2025-01-01     |1053          |WI           |HCHG VMH COLONOSCOPY/SPLENIC                             |20005868|null     |CDM      |both        |3197.0      |2717.45        |1688      |3016      |COMPCARE HEALTH SERVICE INS CORP - Medicaid|Medicaid Managed Care|facility     |Fee Schedule|1688                  |null                      |null                  |null                     |\n",
      "|521348     |Vernon Memorial Hospital|507 South Main Street, Viroqua, WI 54665|null             |2025-01-01     |1053          |WI           |HCHG VMH COLON SPLENIC BX                                |20005869|null     |CDM      |both        |3726.0      |3167.1         |1205      |3706      |COMPCARE HEALTH SERVICE INS CORP - Medicaid|Medicaid Managed Care|facility     |Fee Schedule|1692                  |null                      |null                  |null                     |\n",
      "|521348     |Vernon Memorial Hospital|507 South Main Street, Viroqua, WI 54665|null             |2025-01-01     |1053          |WI           |HCHG VMH COLON/TUMOR/SNARE                               |20005870|null     |CDM      |both        |4108.0      |3491.8         |1409      |3738      |COMPCARE HEALTH SERVICE INS CORP - Medicaid|Medicaid Managed Care|facility     |Fee Schedule|1688                  |null                      |null                  |null                     |\n",
      "|521348     |Vernon Memorial Hospital|507 South Main Street, Viroqua, WI 54665|null             |2025-01-01     |1053          |WI           |HCHG 54150 CIRCUMCISION, CLAMP/OTH DEVICE W/REGIONAL     |20001178|null     |CDM      |both        |240.0       |204.0          |168       |231       |COMPCARE HEALTH SERVICE INS CORP - Medicaid|Medicaid Managed Care|facility     |Fee Schedule|231                   |null                      |null                  |null                     |\n",
      "|521348     |Vernon Memorial Hospital|507 South Main Street, Viroqua, WI 54665|null             |2025-01-01     |1053          |WI           |HCHG 59025 FETAL NON-STRESS TEST                         |20000545|null     |CDM      |both        |231.0       |196.35         |162       |222       |COMPCARE HEALTH SERVICE INS CORP - Medicaid|Medicaid Managed Care|facility     |Fee Schedule|222                   |null                      |null                  |null                     |\n",
      "|521348     |Vernon Memorial Hospital|507 South Main Street, Viroqua, WI 54665|null             |2025-01-01     |1053          |WI           |HCHG 70030 EYE FOREIGN BODY ROUTINE                      |21800007|null     |CDM      |both        |387.0       |328.95         |96        |327       |COMPCARE HEALTH SERVICE INS CORP - Medicaid|Medicaid Managed Care|facility     |Fee Schedule|96                    |null                      |null                  |null                     |\n",
      "|521348     |Vernon Memorial Hospital|507 South Main Street, Viroqua, WI 54665|null             |2025-01-01     |1053          |WI           |HCHG 70450 CT HEAD W/O IV CONT                           |21000002|null     |CDM      |both        |2288.0      |1944.8         |520       |2083      |COMPCARE HEALTH SERVICE INS CORP - Medicaid|Medicaid Managed Care|facility     |Fee Schedule|520                   |null                      |null                  |null                     |\n",
      "|521348     |Vernon Memorial Hospital|507 South Main Street, Viroqua, WI 54665|null             |2025-01-01     |1053          |WI           |HCHG 70481 CT ORB TEMP B IAC W/IV CONT                   |21000006|null     |CDM      |both        |2625.0      |2231.25        |538       |882       |COMPCARE HEALTH SERVICE INS CORP - Medicaid|Medicaid Managed Care|facility     |Fee Schedule|538                   |null                      |null                  |null                     |\n",
      "|521348     |Vernon Memorial Hospital|507 South Main Street, Viroqua, WI 54665|null             |2025-01-01     |1053          |WI           |HCHG 70486 CT MAXILLA W/O IV CONT                        |21000009|null     |CDM      |both        |2189.0      |1860.65        |182       |1897      |COMPCARE HEALTH SERVICE INS CORP - Medicaid|Medicaid Managed Care|facility     |Fee Schedule|182                   |null                      |null                  |null                     |\n",
      "|521348     |Vernon Memorial Hospital|507 South Main Street, Viroqua, WI 54665|null             |2025-01-01     |1053          |WI           |HCHG 70491 CT NECK SOFT TIS W/IV CONT                    |21000008|null     |CDM      |both        |2625.0      |2231.25        |520       |2200      |COMPCARE HEALTH SERVICE INS CORP - Medicaid|Medicaid Managed Care|facility     |Fee Schedule|538                   |null                      |null                  |null                     |\n",
      "|521348     |Vernon Memorial Hospital|507 South Main Street, Viroqua, WI 54665|null             |2025-01-01     |1053          |WI           |HCHG 70496 CT ANGIO HEAD W/O&W IV CONT                   |21000035|null     |CDM      |both        |5212.0      |4430.2         |636       |4368      |COMPCARE HEALTH SERVICE INS CORP - Medicaid|Medicaid Managed Care|facility     |Fee Schedule|665                   |null                      |null                  |null                     |\n",
      "+-----------+------------------------+----------------------------------------+-----------------+---------------+--------------+-------------+---------------------------------------------------------+--------+---------+---------+------------+------------+---------------+----------+----------+-------------------------------------------+---------------------+-------------+------------+----------------------+--------------------------+----------------------+-------------------------+\n",
      "only showing top 20 rows\n",
      "\n"
     ]
    }
   ],
   "source": [
    "from pyspark.sql.functions import col, lit\n",
    "\n",
    "aligned_df = df.select(\n",
    "    col(\"provider_id\").cast(\"string\").alias(\"hospital_id\"),\n",
    "    col(\"hospital_name\"),\n",
    "    col(\"hospital_address\"),\n",
    "    lit(None).cast(\"string\").alias(\"hospital_location\"),  # Not present in CSV\n",
    "    col(\"last_updated_on\").cast(\"string\"),\n",
    "    col(\"license_number\").cast(\"string\"),\n",
    "    col(\"license_state\"),\n",
    "    col(\"description\").alias(\"service_description\"),\n",
    "    col(\"code | 1\").alias(\"code\"),\n",
    "    col(\"modifiers\").cast(\"string\"),\n",
    "    col(\"code | 1 | type\").alias(\"code_type\"),\n",
    "    col(\"setting\").alias(\"care_setting\"),\n",
    "    col(\"standard_charge | gross\").alias(\"gross_charge\"),\n",
    "    col(\"standard_charge | discounted_cash\").alias(\"discounted_cash\"),\n",
    "    col(\"standard_charge | min\").cast(\"long\").alias(\"min_charge\"),\n",
    "    col(\"standard_charge | max\").cast(\"long\").alias(\"max_charge\"),\n",
    "    col(\"payer_name\"),\n",
    "    col(\"plan_name\"),\n",
    "    col(\"billing_class\"),\n",
    "    col(\"standard_charge | methodology\").alias(\"methodology\"),\n",
    "    col(\"standard_charge | negotiated_dollar\").cast(\"long\").alias(\"standard_charge_dollar\"),\n",
    "    col(\"standard_charge | negotiated_percentage\").cast(\"long\").alias(\"standard_charge_percentage\"),\n",
    "    col(\"additional_generic_notes\").alias(\"additional_payer_notes\"),\n",
    "    col(\"standard_charge | negotiated_algorithm\").alias(\"standard_charge_algorithm\")\n",
    ")\n",
    "\n",
    "aligned_df.printSchema()\n",
    "aligned_df.show(truncate=False)"
   ]
  },
  {
   "cell_type": "code",
   "execution_count": null,
   "id": "dac878c4-3e96-4d30-81c6-7801690ba927",
   "metadata": {},
   "outputs": [],
   "source": []
  }
 ],
 "metadata": {
  "kernelspec": {
   "display_name": "Python 3 (ipykernel)",
   "language": "python",
   "name": "python3"
  },
  "language_info": {
   "codemirror_mode": {
    "name": "ipython",
    "version": 3
   },
   "file_extension": ".py",
   "mimetype": "text/x-python",
   "name": "python",
   "nbconvert_exporter": "python",
   "pygments_lexer": "ipython3",
   "version": "3.9.22"
  }
 },
 "nbformat": 4,
 "nbformat_minor": 5
}
