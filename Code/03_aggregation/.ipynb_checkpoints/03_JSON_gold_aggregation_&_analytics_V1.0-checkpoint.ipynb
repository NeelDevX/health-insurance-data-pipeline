{
 "cells": [
  {
   "cell_type": "code",
   "execution_count": 1,
   "id": "adcacf60-5da6-494c-8cbc-430517724590",
   "metadata": {
    "scrolled": true
   },
   "outputs": [
    {
     "name": "stderr",
     "output_type": "stream",
     "text": [
      "25/05/04 15:03:11 WARN Utils: Your hostname, NEELs-MacBook-Air.local resolves to a loopback address: 127.0.0.1; using 10.190.171.120 instead (on interface en0)\n",
      "25/05/04 15:03:11 WARN Utils: Set SPARK_LOCAL_IP if you need to bind to another address\n",
      "Setting default log level to \"WARN\".\n",
      "To adjust logging level use sc.setLogLevel(newLevel). For SparkR, use setLogLevel(newLevel).\n",
      "25/05/04 15:03:12 WARN NativeCodeLoader: Unable to load native-hadoop library for your platform... using builtin-java classes where applicable\n"
     ]
    }
   ],
   "source": [
    "from pyspark.sql import SparkSession\n",
    "\n",
    "spark = SparkSession.builder \\\n",
    "    .appName(\"Healthcare Export\") \\\n",
    "    .config(\"spark.driver.memory\", \"8g\") \\\n",
    "    .config(\"spark.executor.memory\", \"4g\") \\\n",
    "    .config(\"spark.sql.catalog.local\", \"org.apache.iceberg.spark.SparkCatalog\") \\\n",
    "    .config(\"spark.sql.catalog.local.type\", \"hadoop\") \\\n",
    "    .config(\"spark.sql.catalog.local.warehouse\", \"/Users/neelkalavadiya/Practicum_Project_Local/iceberg_warehouse\") \\\n",
    "    .config(\"spark.sql.extensions\", \"org.apache.iceberg.spark.extensions.IcebergSparkSessionExtensions\") \\\n",
    "    .getOrCreate()\n",
    "\n",
    "# Suppress all WARNs logs\n",
    "spark.sparkContext.setLogLevel(\"ERROR\")"
   ]
  },
  {
   "cell_type": "code",
   "execution_count": 2,
   "id": "c28fd524-63be-496e-9d97-06dd22be7418",
   "metadata": {},
   "outputs": [],
   "source": [
    "from pyspark.sql import functions as F\n",
    "from pyspark.sql.window import Window\n",
    "from datetime import datetime\n",
    "\n",
    "# Read from Silver Layer\n",
    "silver_df = spark.read.table(\"local.silver.baptist_medical_center\")"
   ]
  },
  {
   "cell_type": "code",
   "execution_count": 3,
   "id": "a0301b7a-d049-4b55-b3d6-c6fee15ccbda",
   "metadata": {},
   "outputs": [],
   "source": [
    "# Create gold timestamp\n",
    "current_ts = datetime.now()\n",
    "silver_df = silver_df.withColumn(\"gold_ingestion_ts\", F.lit(current_ts))"
   ]
  },
  {
   "cell_type": "code",
   "execution_count": 4,
   "id": "91049e10-a5e2-421b-8b6e-8503f8449d59",
   "metadata": {},
   "outputs": [],
   "source": [
    "# 1. Dim_Hospital\n",
    "hospital_dim = silver_df.select(\n",
    "    \"provider_id\", \"hospital_name\", \"city\", \"state\",\n",
    "    \"license_number\", \"license_state\"\n",
    ").dropDuplicates()"
   ]
  },
  {
   "cell_type": "code",
   "execution_count": 5,
   "id": "707ccc22-0dd0-4962-90c7-c4e319780fc1",
   "metadata": {},
   "outputs": [],
   "source": [
    "# 2. Dim_Payer\n",
    "payer_dim = silver_df.select(\n",
    "    \"payer_name\", \"plan_name\", \"billing_class\", \"methodology\",\n",
    "    \"payer_category\", \"pricing_model\", \"plan_type\"\n",
    ").dropDuplicates()"
   ]
  },
  {
   "cell_type": "code",
   "execution_count": 6,
   "id": "bc707935-3ca8-44d9-8851-1e687019a7ec",
   "metadata": {},
   "outputs": [],
   "source": [
    "# 3. Dim_Procedure\n",
    "procedure_dim = silver_df.select(\n",
    "    \"code\", \"modifiers\", \"code_type\", \"care_setting\",\n",
    "    \"treatment_type\", \"is_medication\", \"drug_form\",\n",
    "    \"imaging_type\", \"is_lab_test\", \"has_brand_indicator\"\n",
    ").dropDuplicates()"
   ]
  },
  {
   "cell_type": "code",
   "execution_count": 7,
   "id": "f6c0af73-04e3-461e-a23c-5d5009dd30e8",
   "metadata": {},
   "outputs": [],
   "source": [
    "# Fact Table: Fact_Charges\n",
    "fact_charges = silver_df.select(\n",
    "    \"provider_id\", \"payer_name\", \"code\",\n",
    "    \"gross_charge\", \"discounted_cash\", \"min_charge\", \"max_charge\",\n",
    "    \"standard_charge_dollar\", \"standard_charge_percentage\",\n",
    "    \"charge_bucket\", \"payer_info_missing\",\n",
    "    \"silver_ingestion_ts\", \"gold_ingestion_ts\"\n",
    ")"
   ]
  },
  {
   "cell_type": "code",
   "execution_count": 76,
   "id": "192abc66-38d2-4940-afa3-d2b3b7608a2c",
   "metadata": {},
   "outputs": [
    {
     "name": "stderr",
     "output_type": "stream",
     "text": [
      "                                                                                \r"
     ]
    }
   ],
   "source": [
    "# # Save dimensions and fact tables as Parquet for inspection\n",
    "# hospital_dim.write.mode(\"overwrite\").parquet(\"/Users/neelkalavadiya/iceberg_warehouse/checkpoint_parquet/transform/aggregation\")\n",
    "# payer_dim.write.mode(\"overwrite\").parquet(\"/Users/neelkalavadiya/iceberg_warehouse/checkpoint_parquet/transform/aggregation\")\n",
    "# procedure_dim.write.mode(\"overwrite\").parquet(\"/Users/neelkalavadiya/iceberg_warehouse/checkpoint_parquet/transform/aggregation\")\n",
    "# fact_charges.write.mode(\"overwrite\").parquet(\"/Users/neelkalavadiya/iceberg_warehouse/checkpoint_parquet/transform/aggregation\")"
   ]
  },
  {
   "cell_type": "code",
   "execution_count": 8,
   "id": "bfefc493-9346-42d9-850e-8467940b2776",
   "metadata": {},
   "outputs": [
    {
     "name": "stderr",
     "output_type": "stream",
     "text": [
      "                                                                                "
     ]
    },
    {
     "name": "stdout",
     "output_type": "stream",
     "text": [
      "🆕 Created and loaded table: local.gold.dim_hospital\n"
     ]
    },
    {
     "name": "stderr",
     "output_type": "stream",
     "text": [
      "                                                                                "
     ]
    },
    {
     "name": "stdout",
     "output_type": "stream",
     "text": [
      "🆕 Created and loaded table: local.gold.dim_payer\n"
     ]
    },
    {
     "name": "stderr",
     "output_type": "stream",
     "text": [
      "                                                                                "
     ]
    },
    {
     "name": "stdout",
     "output_type": "stream",
     "text": [
      "🆕 Created and loaded table: local.gold.dim_procedure\n"
     ]
    },
    {
     "name": "stderr",
     "output_type": "stream",
     "text": [
      "                                                                                "
     ]
    },
    {
     "name": "stdout",
     "output_type": "stream",
     "text": [
      "🆕 Created and loaded table: local.gold.fact_charges\n"
     ]
    }
   ],
   "source": [
    "from pyspark.sql.utils import AnalysisException\n",
    "\n",
    "gold_tables = [\n",
    "    (hospital_dim, \"local.gold.dim_hospital\"),\n",
    "    (payer_dim, \"local.gold.dim_payer\"),\n",
    "    (procedure_dim, \"local.gold.dim_procedure\"),\n",
    "    (fact_charges, \"local.gold.fact_charges\")\n",
    "]\n",
    "\n",
    "for df, table in gold_tables:\n",
    "    try:\n",
    "        # Try to append to the existing table\n",
    "        df.writeTo(table) \\\n",
    "            .using(\"iceberg\") \\\n",
    "            .tableProperty(\"format-version\", \"2\") \\\n",
    "            .append()\n",
    "        print(f\"✅ Appended to existing table: {table}\")\n",
    "    except AnalysisException:\n",
    "        # If table doesn't exist, create it\n",
    "        df.writeTo(table) \\\n",
    "            .using(\"iceberg\") \\\n",
    "            .tableProperty(\"format-version\", \"2\") \\\n",
    "            .create()\n",
    "        print(f\"🆕 Created and loaded table: {table}\")\n"
   ]
  },
  {
   "cell_type": "code",
   "execution_count": 2,
   "id": "efe6b926-cb56-437a-9e24-f4effa63e786",
   "metadata": {},
   "outputs": [
    {
     "name": "stdout",
     "output_type": "stream",
     "text": [
      "+-----------+-------------+----+-----+--------------+-------------+\n",
      "|provider_id|hospital_name|city|state|license_number|license_state|\n",
      "+-----------+-------------+----+-----+--------------+-------------+\n",
      "+-----------+-------------+----+-----+--------------+-------------+\n",
      "\n"
     ]
    }
   ],
   "source": [
    "df_dim_check=spark.read.table(\"local.gold.dim_hospital\")\n",
    "df_dim_check.show(10,truncate=False)"
   ]
  },
  {
   "cell_type": "code",
   "execution_count": 88,
   "id": "87f1af67-e426-45fa-9dab-c5d13b45ee55",
   "metadata": {},
   "outputs": [
    {
     "name": "stderr",
     "output_type": "stream",
     "text": [
      "                                                                                \r"
     ]
    }
   ],
   "source": [
    "jdbc_url = \"jdbc:postgresql://localhost:5432/healthcare_insurance\"\n",
    "jdbc_properties = {\n",
    "    \"user\": \"postgres\",\n",
    "    \"password\": \"201970\",\n",
    "    \"driver\": \"org.postgresql.Driver\"\n",
    "}\n",
    "\n",
    "df_dim_check.write \\\n",
    "    .format(\"jdbc\") \\\n",
    "    .option(\"url\", jdbc_url) \\\n",
    "    .option(\"dbtable\", \"fact_charges\") \\\n",
    "    .options(**jdbc_properties) \\\n",
    "    .mode(\"overwrite\") \\\n",
    "    .save()\n"
   ]
  },
  {
   "cell_type": "code",
   "execution_count": 2,
   "id": "16cc167f-c051-46c7-ba1d-706990417187",
   "metadata": {},
   "outputs": [
    {
     "name": "stderr",
     "output_type": "stream",
     "text": [
      "                                                                                "
     ]
    },
    {
     "name": "stdout",
     "output_type": "stream",
     "text": [
      "+---------+-----------------+-----------+\n",
      "|namespace|tableName        |isTemporary|\n",
      "+---------+-----------------+-----------+\n",
      "|gold     |dim_plan         |false      |\n",
      "|gold     |dim_hospital     |false      |\n",
      "|gold     |dim_payer        |false      |\n",
      "|gold     |dim_plan_metadata|false      |\n",
      "|gold     |dim_procedure    |false      |\n",
      "|gold     |fact_charges     |false      |\n",
      "+---------+-----------------+-----------+\n",
      "\n"
     ]
    }
   ],
   "source": [
    "spark.sql(\"SHOW TABLES IN local.gold\").show(truncate=False)"
   ]
  },
  {
   "cell_type": "code",
   "execution_count": 3,
   "id": "d60e7548-4644-4d59-b068-6578047f2370",
   "metadata": {},
   "outputs": [
    {
     "name": "stderr",
     "output_type": "stream",
     "text": [
      "                                                                                "
     ]
    },
    {
     "name": "stdout",
     "output_type": "stream",
     "text": [
      "+-----------+----------------------+-----------+-----+--------------+-------------+\n",
      "|hospital_id|hospital_name         |city       |state|license_number|license_state|\n",
      "+-----------+----------------------+-----------+-----+--------------+-------------+\n",
      "|1514675685 |Baptist Medical Center|San Antonio|TX   |000114        |TX           |\n",
      "+-----------+----------------------+-----------+-----+--------------+-------------+\n",
      "\n"
     ]
    }
   ],
   "source": [
    "spark.sql(\"Select * from local.gold.dim_hospital LIMIT 5\").show(truncate=False)"
   ]
  },
  {
   "cell_type": "code",
   "execution_count": 5,
   "id": "0fcf02fb-8f98-4440-ad58-d9e99dc5af27",
   "metadata": {},
   "outputs": [
    {
     "name": "stdout",
     "output_type": "stream",
     "text": [
      "+--------+----------------------------------------+\n",
      "|payer_id|payer_name                              |\n",
      "+--------+----------------------------------------+\n",
      "|1001    |AETNA                                   |\n",
      "|1002    |ANTHEM AFFILIATES                       |\n",
      "|1003    |BLUE CROSS BLUE SHIELD OF TEXAS         |\n",
      "|1004    |CENTENE                                 |\n",
      "|1005    |CIGNA                                   |\n",
      "|1006    |COMMUNITY FIRST HEALTH PLAN             |\n",
      "|1007    |DEVOTED HEALTH PLAN                     |\n",
      "|1008    |HUMANA                                  |\n",
      "|1009    |IMAGINE HEALTH                          |\n",
      "|1010    |MOLINA HEALTHCARE OF TEXAS (CLAIMS ONLY)|\n",
      "|1011    |OPTUMCARE                               |\n",
      "|1012    |OSCAR HEALTH                            |\n",
      "|1013    |PROVIDER PARTNERS HEALTH PLAN           |\n",
      "|1014    |TEXAS INDEPENDENCE HEALTH PLAN          |\n",
      "|1015    |UNITED HEALTHCARE                       |\n",
      "|1016    |WELLCARE                                |\n",
      "+--------+----------------------------------------+\n",
      "\n"
     ]
    }
   ],
   "source": [
    "spark.sql(\"Select * from local.gold.dim_payer LIMIT 20\").show(truncate=False)"
   ]
  },
  {
   "cell_type": "code",
   "execution_count": null,
   "id": "2d79ba28-0ef1-4882-9b7c-a5e1389d1bd0",
   "metadata": {},
   "outputs": [],
   "source": []
  }
 ],
 "metadata": {
  "kernelspec": {
   "display_name": "Python 3 (ipykernel)",
   "language": "python",
   "name": "python3"
  },
  "language_info": {
   "codemirror_mode": {
    "name": "ipython",
    "version": 3
   },
   "file_extension": ".py",
   "mimetype": "text/x-python",
   "name": "python",
   "nbconvert_exporter": "python",
   "pygments_lexer": "ipython3",
   "version": "3.9.22"
  }
 },
 "nbformat": 4,
 "nbformat_minor": 5
}
