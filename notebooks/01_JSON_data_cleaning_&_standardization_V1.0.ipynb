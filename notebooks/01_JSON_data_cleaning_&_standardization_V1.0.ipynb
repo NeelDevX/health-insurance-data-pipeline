{
 "cells": [
  {
   "cell_type": "code",
   "execution_count": 1,
   "id": "adcacf60-5da6-494c-8cbc-430517724590",
   "metadata": {},
   "outputs": [
    {
     "name": "stderr",
     "output_type": "stream",
     "text": [
      "25/04/15 13:58:18 WARN Utils: Your hostname, NEELs-MacBook-Air.local resolves to a loopback address: 127.0.0.1; using 10.190.162.30 instead (on interface en0)\n",
      "25/04/15 13:58:18 WARN Utils: Set SPARK_LOCAL_IP if you need to bind to another address\n",
      "25/04/15 13:58:18 WARN NativeCodeLoader: Unable to load native-hadoop library for your platform... using builtin-java classes where applicable\n",
      "Setting default log level to \"WARN\".\n",
      "To adjust logging level use sc.setLogLevel(newLevel). For SparkR, use setLogLevel(newLevel).\n",
      "25/04/15 13:58:19 WARN Utils: Service 'SparkUI' could not bind on port 4040. Attempting port 4041.\n",
      "25/04/15 13:58:19 WARN Utils: Service 'SparkUI' could not bind on port 4041. Attempting port 4042.\n"
     ]
    }
   ],
   "source": [
    "from pyspark.sql import SparkSession\n",
    "\n",
    "spark = SparkSession.builder \\\n",
    "    .appName(\"Healthcare Export\") \\\n",
    "    .config(\"spark.driver.memory\", \"8g\") \\\n",
    "    .config(\"spark.jars\", \"/Users/neelkalavadiya/spark-jars/iceberg-spark-runtime-3.4_2.12-1.3.1.jar,\"\n",
    "                           \"/Users/neelkalavadiya/spark-jars/postgresql-42.7.2.jar\") \\\n",
    "    .config(\"spark.sql.catalog.local\", \"org.apache.iceberg.spark.SparkCatalog\") \\\n",
    "    .config(\"spark.sql.catalog.local.type\", \"hadoop\") \\\n",
    "    .config(\"spark.sql.catalog.local.warehouse\", \"/Users/neelkalavadiya/iceberg_warehouse\") \\\n",
    "    .config(\"spark.sql.extensions\", \"org.apache.iceberg.spark.extensions.IcebergSparkSessionExtensions\") \\\n",
    "    .getOrCreate()\n"
   ]
  },
  {
   "cell_type": "code",
   "execution_count": 9,
   "id": "67241a2b-49cb-40a5-ae3c-2319c038d89a",
   "metadata": {},
   "outputs": [
    {
     "name": "stdout",
     "output_type": "stream",
     "text": [
      "+---------+-------------------------+-----------+\n",
      "|namespace|tableName                |isTemporary|\n",
      "+---------+-------------------------+-----------+\n",
      "|bronze   |santa_rosa_westover_hills|false      |\n",
      "|bronze   |baptist_medical_center   |false      |\n",
      "|bronze   |resolute_health          |false      |\n",
      "|bronze   |santa_rosa_medical_center|false      |\n",
      "|bronze   |santa_rosa_new_braunfels |false      |\n",
      "|bronze   |mission_trail_baptist    |false      |\n",
      "|bronze   |north_central_baptist    |false      |\n",
      "+---------+-------------------------+-----------+\n",
      "\n"
     ]
    }
   ],
   "source": [
    "spark.sql(\"SHOW TABLES IN local.bronze\").show(truncate=False)"
   ]
  },
  {
   "cell_type": "code",
   "execution_count": 40,
   "id": "5875b82c-ed8e-427e-ad70-eae6b2fd249a",
   "metadata": {},
   "outputs": [
    {
     "name": "stdout",
     "output_type": "stream",
     "text": [
      "root\n",
      " |-- provider_id: string (nullable = true)\n",
      " |-- hospital_name: string (nullable = true)\n",
      " |-- hospital_address: string (nullable = true)\n",
      " |-- hospital_location: string (nullable = true)\n",
      " |-- last_updated_on: string (nullable = true)\n",
      " |-- license_number: string (nullable = true)\n",
      " |-- license_state: string (nullable = true)\n",
      " |-- service_description: string (nullable = true)\n",
      " |-- code: string (nullable = true)\n",
      " |-- modifiers: string (nullable = true)\n",
      " |-- code_type: string (nullable = true)\n",
      " |-- care_setting: string (nullable = true)\n",
      " |-- gross_charge: double (nullable = true)\n",
      " |-- discounted_cash: double (nullable = true)\n",
      " |-- min_charge: long (nullable = true)\n",
      " |-- max_charge: long (nullable = true)\n",
      " |-- payer: struct (nullable = true)\n",
      " |    |-- additional_payer_notes: string (nullable = true)\n",
      " |    |-- billing_class: string (nullable = true)\n",
      " |    |-- methodology: string (nullable = true)\n",
      " |    |-- payer_name: string (nullable = true)\n",
      " |    |-- plan_name: string (nullable = true)\n",
      " |    |-- standard_charge_algorithm: string (nullable = true)\n",
      " |    |-- standard_charge_dollar: long (nullable = true)\n",
      " |    |-- standard_charge_percentage: long (nullable = true)\n",
      " |-- payer_name: string (nullable = true)\n",
      " |-- plan_name: string (nullable = true)\n",
      " |-- billing_class: string (nullable = true)\n",
      " |-- methodology: string (nullable = true)\n",
      " |-- standard_charge_dollar: long (nullable = true)\n",
      " |-- standard_charge_percentage: long (nullable = true)\n",
      " |-- additional_payer_notes: string (nullable = true)\n",
      " |-- standard_charge_algorithm: string (nullable = true)\n",
      "\n"
     ]
    }
   ],
   "source": [
    "# Data Cleansing Notebook\n",
    "# -------------------------------------\n",
    "from pyspark.sql.functions import col, trim, current_timestamp, lit\n",
    "\n",
    "# Step 1: Read from Bronze Table\n",
    "df_bronze = spark.read.format(\"iceberg\").load(\"local.bronze.north_central_baptist\")\n",
    "df_bronze.printSchema()"
   ]
  },
  {
   "cell_type": "code",
   "execution_count": 41,
   "id": "f9768c48-7da2-4e24-b50d-fef9a7f8b160",
   "metadata": {},
   "outputs": [],
   "source": [
    "# Step 1: Drop records with critical nulls\n",
    "df_clean = df_bronze.dropna(subset=[\"provider_id\", \"hospital_name\", \"service_description\", \"gross_charge\"])"
   ]
  },
  {
   "cell_type": "code",
   "execution_count": 42,
   "id": "58b16151-8512-45b6-b959-6167dc71decc",
   "metadata": {},
   "outputs": [],
   "source": [
    "# Step 2: Deduplicate\n",
    "df_clean = df_clean.dropDuplicates()"
   ]
  },
  {
   "cell_type": "code",
   "execution_count": 43,
   "id": "2a9549a8-e1f6-45eb-b2b0-f3d6266d418b",
   "metadata": {},
   "outputs": [],
   "source": [
    "from pyspark.sql.functions import col, trim, current_timestamp, lit,upper,to_date\n",
    "# Step 3: Format standardization\n",
    "df_clean = df_clean \\\n",
    "    .withColumn(\"payer_name\", upper(trim(col(\"payer_name\")))) \\\n",
    "    .withColumn(\"plan_name\", upper(trim(col(\"plan_name\")))) \\\n",
    "    .withColumn(\"last_updated_on\", to_date(\"last_updated_on\", \"yyyy-MM-dd\"))\n"
   ]
  },
  {
   "cell_type": "code",
   "execution_count": 44,
   "id": "e8b3f544-3c53-4329-8a78-c4c5af94aae5",
   "metadata": {},
   "outputs": [],
   "source": [
    "# Step 4: Remove unrealistic values\n",
    "df_clean = df_clean.filter((col(\"gross_charge\") > 0) & (col(\"min_charge\") <= col(\"max_charge\")))"
   ]
  },
  {
   "cell_type": "code",
   "execution_count": 45,
   "id": "01205403-1e5d-4c2f-a336-40f980c82394",
   "metadata": {},
   "outputs": [
    {
     "name": "stderr",
     "output_type": "stream",
     "text": [
      "                                                                                \r"
     ]
    }
   ],
   "source": [
    "df_clean.write.mode(\"overwrite\").parquet(\"/Users/neelkalavadiya/iceberg_warehouse/checkpoint_parquet/transform\")"
   ]
  },
  {
   "cell_type": "code",
   "execution_count": null,
   "id": "4573f29a-4c92-44be-9fa9-eeed3df42047",
   "metadata": {},
   "outputs": [],
   "source": []
  },
  {
   "cell_type": "code",
   "execution_count": null,
   "id": "b48de125-e10f-424c-a000-a2b761bd77b1",
   "metadata": {},
   "outputs": [],
   "source": []
  }
 ],
 "metadata": {
  "kernelspec": {
   "display_name": "Python 3 (ipykernel)",
   "language": "python",
   "name": "python3"
  },
  "language_info": {
   "codemirror_mode": {
    "name": "ipython",
    "version": 3
   },
   "file_extension": ".py",
   "mimetype": "text/x-python",
   "name": "python",
   "nbconvert_exporter": "python",
   "pygments_lexer": "ipython3",
   "version": "3.9.19"
  }
 },
 "nbformat": 4,
 "nbformat_minor": 5
}
