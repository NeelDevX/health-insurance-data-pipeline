{
 "cells": [
  {
   "cell_type": "code",
   "execution_count": 4,
   "id": "f94dd9cd-1229-43b5-874a-b864ab2938b9",
   "metadata": {},
   "outputs": [
    {
     "name": "stdout",
     "output_type": "stream",
     "text": [
      "openjdk version \"11.0.26\" 2025-01-21\n",
      "OpenJDK Runtime Environment (build 11.0.26+4-post-Ubuntu-1ubuntu122.04)\n",
      "OpenJDK 64-Bit Server VM (build 11.0.26+4-post-Ubuntu-1ubuntu122.04, mixed mode)\n"
     ]
    }
   ],
   "source": [
    "!java -version"
   ]
  },
  {
   "cell_type": "code",
   "execution_count": 3,
   "id": "e352103d-78d2-4a41-82b7-adee22edb36d",
   "metadata": {},
   "outputs": [],
   "source": [
    "from pyspark.sql import SparkSession\n",
    "\n",
    "spark = SparkSession.builder \\\n",
    "    .appName(\"Healthcare Export\") \\\n",
    "    .config(\"spark.driver.memory\", \"8g\") \\\n",
    "    .config(\"spark.sql.catalog.local\", \"org.apache.iceberg.spark.SparkCatalog\") \\\n",
    "    .config(\"spark.sql.catalog.local.type\", \"hadoop\") \\\n",
    "    .config(\"spark.sql.catalog.local.warehouse\", \"/home/jovyan/iceberg_warehouse\") \\\n",
    "    .config(\"spark.sql.extensions\", \"org.apache.iceberg.spark.extensions.IcebergSparkSessionExtensions\") \\\n",
    "    .getOrCreate()\n",
    "\n",
    "\n",
    "# Suppress all WARNs logs\n",
    "spark.sparkContext.setLogLevel(\"ERROR\")"
   ]
  },
  {
   "cell_type": "code",
   "execution_count": 5,
   "id": "94790d2d-c594-4ee9-8486-45c17c6936b5",
   "metadata": {},
   "outputs": [
    {
     "name": "stdout",
     "output_type": "stream",
     "text": [
      "Spark version: 3.4.4\n",
      "PySpark version: 3.4.4\n"
     ]
    },
    {
     "data": {
      "text/plain": [
       "['spark://5ada61790024:41151/jars/iceberg-spark-runtime-3.4_2.12-1.3.1.jar',\n",
       " 'spark://5ada61790024:41151/jars/postgresql-42.6.0.jar']"
      ]
     },
     "execution_count": 5,
     "metadata": {},
     "output_type": "execute_result"
    }
   ],
   "source": [
    "import pyspark\n",
    "\n",
    "print(\"Spark version:\", spark.version)\n",
    "print(\"PySpark version:\", pyspark.__version__)\n",
    "\n",
    "\n",
    "jvm = spark._jvm\n",
    "jars = jvm.scala.collection.JavaConverters.seqAsJavaListConverter(\n",
    "    spark.sparkContext._jsc.sc().listJars().toSeq()\n",
    ").asJava()\n",
    "\n",
    "list(jars)\n"
   ]
  },
  {
   "cell_type": "code",
   "execution_count": 7,
   "id": "2a05fcd7-4d99-4a74-b6c1-e21e55525eeb",
   "metadata": {},
   "outputs": [
    {
     "name": "stdout",
     "output_type": "stream",
     "text": [
      "root\n",
      " |-- affirmation: struct (nullable = true)\n",
      " |    |-- affirmation: string (nullable = true)\n",
      " |    |-- confirm_affirmation: boolean (nullable = true)\n",
      " |-- hospital_address: array (nullable = true)\n",
      " |    |-- element: string (containsNull = true)\n",
      " |-- hospital_location: array (nullable = true)\n",
      " |    |-- element: string (containsNull = true)\n",
      " |-- hospital_name: string (nullable = true)\n",
      " |-- last_updated_on: string (nullable = true)\n",
      " |-- license_information: struct (nullable = true)\n",
      " |    |-- license: string (nullable = true)\n",
      " |    |-- state: string (nullable = true)\n",
      " |-- pId: string (nullable = true)\n",
      " |-- standard_charge_information: array (nullable = true)\n",
      " |    |-- element: struct (containsNull = true)\n",
      " |    |    |-- code_information: array (nullable = true)\n",
      " |    |    |    |-- element: struct (containsNull = true)\n",
      " |    |    |    |    |-- code: string (nullable = true)\n",
      " |    |    |    |    |-- modifiers: string (nullable = true)\n",
      " |    |    |    |    |-- type: string (nullable = true)\n",
      " |    |    |-- description: string (nullable = true)\n",
      " |    |    |-- standard_charges: array (nullable = true)\n",
      " |    |    |    |-- element: struct (containsNull = true)\n",
      " |    |    |    |    |-- additional_generic_notes: string (nullable = true)\n",
      " |    |    |    |    |-- discounted_cash: double (nullable = true)\n",
      " |    |    |    |    |-- gross_charge: double (nullable = true)\n",
      " |    |    |    |    |-- maximum: long (nullable = true)\n",
      " |    |    |    |    |-- minimum: long (nullable = true)\n",
      " |    |    |    |    |-- payers_information: array (nullable = true)\n",
      " |    |    |    |    |    |-- element: struct (containsNull = true)\n",
      " |    |    |    |    |    |    |-- additional_payer_notes: string (nullable = true)\n",
      " |    |    |    |    |    |    |-- billing_class: string (nullable = true)\n",
      " |    |    |    |    |    |    |-- methodology: string (nullable = true)\n",
      " |    |    |    |    |    |    |-- payer_name: string (nullable = true)\n",
      " |    |    |    |    |    |    |-- plan_name: string (nullable = true)\n",
      " |    |    |    |    |    |    |-- standard_charge_algorithm: string (nullable = true)\n",
      " |    |    |    |    |    |    |-- standard_charge_dollar: long (nullable = true)\n",
      " |    |    |    |    |    |    |-- standard_charge_percentage: long (nullable = true)\n",
      " |    |    |    |    |-- setting: string (nullable = true)\n",
      " |-- version: string (nullable = true)\n",
      "\n"
     ]
    }
   ],
   "source": [
    "# Read the JSON\n",
    "json_path = \"/home/jovyan/iceberg_warehouse/raw_data/TX/Baptist_Medical_Center.json\"\n",
    "df = spark.read.option(\"multiline\", \"true\").json(json_path)\n",
    "df.printSchema()"
   ]
  },
  {
   "cell_type": "code",
   "execution_count": 8,
   "id": "aba706fd-cd64-49c0-a621-22ff178fe22e",
   "metadata": {},
   "outputs": [],
   "source": [
    "#Explode standard_charge_information\n",
    "from pyspark.sql.functions import col, explode\n",
    "\n",
    "df_exploded = df.select(\n",
    "    col(\"pId\").alias(\"provider_id\"),\n",
    "    col(\"hospital_name\"),\n",
    "    col(\"hospital_address\")[0].alias(\"hospital_address\"),\n",
    "    col(\"hospital_location\")[0].alias(\"hospital_location\"),\n",
    "    col(\"last_updated_on\"),\n",
    "    col(\"license_information.license\").alias(\"license_number\"),\n",
    "    col(\"license_information.state\").alias(\"license_state\"),\n",
    "    explode(\"standard_charge_information\").alias(\"sci\")\n",
    ")"
   ]
  },
  {
   "cell_type": "code",
   "execution_count": 9,
   "id": "f963a762-20ad-47ee-9908-e66590a37409",
   "metadata": {},
   "outputs": [],
   "source": [
    "#Explode code_information\n",
    "df_code = df_exploded.select(\n",
    "    \"*\",\n",
    "    col(\"sci.description\").alias(\"service_description\"),\n",
    "    explode(\"sci.code_information\").alias(\"code_info\"),\n",
    "    col(\"sci.standard_charges\").alias(\"charge_arr\")\n",
    ")"
   ]
  },
  {
   "cell_type": "code",
   "execution_count": 10,
   "id": "e05792d7-9633-4947-b60c-1b902e119d37",
   "metadata": {},
   "outputs": [],
   "source": [
    "#Explode standard_charges\n",
    "df_charges = df_code.select(\n",
    "    \"*\",\n",
    "    col(\"code_info.code\").alias(\"code\"),\n",
    "    col(\"code_info.modifiers\").alias(\"modifiers\"),\n",
    "    col(\"code_info.type\").alias(\"code_type\"),\n",
    "    explode(\"charge_arr\").alias(\"charge\")\n",
    ")"
   ]
  },
  {
   "cell_type": "code",
   "execution_count": 11,
   "id": "8c9870a5-de4a-43fe-98f4-d005e2739f43",
   "metadata": {},
   "outputs": [],
   "source": [
    "#Explode payers_information\n",
    "df_final_flat = df_charges.select(\n",
    "    \"provider_id\", \"hospital_name\", \"hospital_address\", \"hospital_location\",\n",
    "    \"last_updated_on\", \"license_number\", \"license_state\", \"service_description\",\n",
    "    \"code\", \"modifiers\", \"code_type\",\n",
    "    col(\"charge.setting\").alias(\"care_setting\"),\n",
    "    col(\"charge.gross_charge\"),\n",
    "    col(\"charge.discounted_cash\"),\n",
    "    col(\"charge.minimum\").alias(\"min_charge\"),\n",
    "    col(\"charge.maximum\").alias(\"max_charge\"),\n",
    "    explode(\"charge.payers_information\").alias(\"payer\")\n",
    ").select(\n",
    "    \"*\",\n",
    "    col(\"payer.payer_name\"),\n",
    "    col(\"payer.plan_name\"),\n",
    "    col(\"payer.billing_class\"),\n",
    "    col(\"payer.methodology\"),\n",
    "    col(\"payer.standard_charge_dollar\"),\n",
    "    col(\"payer.standard_charge_percentage\"),\n",
    "    col(\"payer.additional_payer_notes\"),\n",
    "    col(\"payer.standard_charge_algorithm\")\n",
    ")"
   ]
  },
  {
   "cell_type": "code",
   "execution_count": 12,
   "id": "587be146-6643-4d3a-88fc-4c102d78c873",
   "metadata": {},
   "outputs": [],
   "source": [
    "parquet_path = \"/home/jovyan/iceberg_warehouse/checkpoint_parquet/ingestion/baptist_medical_center_SA.parquet\"\n",
    "df_final_flat.write.mode(\"overwrite\").parquet(parquet_path)\n"
   ]
  },
  {
   "cell_type": "code",
   "execution_count": 13,
   "id": "a56d3b46-62cd-4293-90f1-9e6c5dc12dd2",
   "metadata": {},
   "outputs": [],
   "source": [
    "df_read_back = spark.read.parquet(parquet_path)"
   ]
  },
  {
   "cell_type": "code",
   "execution_count": 14,
   "id": "d5176763-61ed-421b-aeb6-e0acbedf3ae2",
   "metadata": {},
   "outputs": [
    {
     "data": {
      "text/plain": [
       "DataFrame[]"
      ]
     },
     "execution_count": 14,
     "metadata": {},
     "output_type": "execute_result"
    }
   ],
   "source": [
    "spark.sql(\"DROP TABLE IF EXISTS local.bronze.baptist_medical_center\")\n"
   ]
  },
  {
   "cell_type": "code",
   "execution_count": 15,
   "id": "87a2f998-759e-43d4-892a-f2a475fb1613",
   "metadata": {},
   "outputs": [
    {
     "data": {
      "text/plain": [
       "DataFrame[]"
      ]
     },
     "execution_count": 15,
     "metadata": {},
     "output_type": "execute_result"
    }
   ],
   "source": [
    "spark.sql(\"CREATE NAMESPACE IF NOT EXISTS local.bronze\")\n"
   ]
  },
  {
   "cell_type": "code",
   "execution_count": 17,
   "id": "6ad23655-5018-4087-a84a-7570cf99de96",
   "metadata": {},
   "outputs": [],
   "source": [
    "df_read_back.writeTo(\"local.bronze.baptist_medical_center\") \\\n",
    "    .using(\"iceberg\") \\\n",
    "    .tableProperty(\"format-version\", \"2\") \\\n",
    "    .createOrReplace()\n"
   ]
  },
  {
   "cell_type": "code",
   "execution_count": 18,
   "id": "cd538edb-120c-4464-96ae-3ff4af6b66bf",
   "metadata": {},
   "outputs": [
    {
     "name": "stdout",
     "output_type": "stream",
     "text": [
      "+---------+----------------------+-----------+\n",
      "|namespace|tableName             |isTemporary|\n",
      "+---------+----------------------+-----------+\n",
      "|bronze   |baptist_medical_center|false      |\n",
      "+---------+----------------------+-----------+\n",
      "\n",
      "+-------------------+--------------------+-------+\n",
      "|           col_name|           data_type|comment|\n",
      "+-------------------+--------------------+-------+\n",
      "|        provider_id|              string|   null|\n",
      "|      hospital_name|              string|   null|\n",
      "|   hospital_address|              string|   null|\n",
      "|  hospital_location|              string|   null|\n",
      "|    last_updated_on|              string|   null|\n",
      "|     license_number|              string|   null|\n",
      "|      license_state|              string|   null|\n",
      "|service_description|              string|   null|\n",
      "|               code|              string|   null|\n",
      "|          modifiers|              string|   null|\n",
      "|          code_type|              string|   null|\n",
      "|       care_setting|              string|   null|\n",
      "|       gross_charge|              double|   null|\n",
      "|    discounted_cash|              double|   null|\n",
      "|         min_charge|              bigint|   null|\n",
      "|         max_charge|              bigint|   null|\n",
      "|              payer|struct<additional...|   null|\n",
      "|         payer_name|              string|   null|\n",
      "|          plan_name|              string|   null|\n",
      "|      billing_class|              string|   null|\n",
      "+-------------------+--------------------+-------+\n",
      "only showing top 20 rows\n",
      "\n"
     ]
    }
   ],
   "source": [
    "spark.sql(\"SHOW TABLES IN local.bronze\").show(truncate=False)\n",
    "spark.sql(\"DESCRIBE TABLE local.bronze.baptist_medical_center\").show()\n"
   ]
  },
  {
   "cell_type": "code",
   "execution_count": null,
   "id": "a77e47e3-a132-414c-8403-3e3621338d2e",
   "metadata": {},
   "outputs": [],
   "source": []
  }
 ],
 "metadata": {
  "kernelspec": {
   "display_name": "Python 3 (ipykernel)",
   "language": "python",
   "name": "python3"
  },
  "language_info": {
   "codemirror_mode": {
    "name": "ipython",
    "version": 3
   },
   "file_extension": ".py",
   "mimetype": "text/x-python",
   "name": "python",
   "nbconvert_exporter": "python",
   "pygments_lexer": "ipython3",
   "version": "3.9.13"
  }
 },
 "nbformat": 4,
 "nbformat_minor": 5
}
