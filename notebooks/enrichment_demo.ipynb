{
 "cells": [
  {
   "cell_type": "code",
   "execution_count": 1,
   "id": "adcacf60-5da6-494c-8cbc-430517724590",
   "metadata": {
    "scrolled": true
   },
   "outputs": [
    {
     "name": "stderr",
     "output_type": "stream",
     "text": [
      "25/04/16 10:29:44 WARN NativeCodeLoader: Unable to load native-hadoop library for your platform... using builtin-java classes where applicable\n",
      "Setting default log level to \"WARN\".\n",
      "To adjust logging level use sc.setLogLevel(newLevel). For SparkR, use setLogLevel(newLevel).\n",
      "25/04/16 10:29:45 WARN Utils: Service 'SparkUI' could not bind on port 4040. Attempting port 4041.\n",
      "25/04/16 10:29:45 WARN Utils: Service 'SparkUI' could not bind on port 4041. Attempting port 4042.\n"
     ]
    }
   ],
   "source": [
    "from pyspark.sql import SparkSession\n",
    "\n",
    "spark = SparkSession.builder \\\n",
    "    .appName(\"Healthcare Export\") \\\n",
    "    .config(\"spark.driver.memory\", \"8g\") \\\n",
    "    .config(\"spark.jars\", \"/Users/neelkalavadiya/spark-jars/iceberg-spark-runtime-3.4_2.12-1.3.1.jar,\"\n",
    "                           \"/Users/neelkalavadiya/spark-jars/postgresql-42.7.2.jar\") \\\n",
    "    .config(\"spark.sql.catalog.local\", \"org.apache.iceberg.spark.SparkCatalog\") \\\n",
    "    .config(\"spark.sql.catalog.local.type\", \"hadoop\") \\\n",
    "    .config(\"spark.sql.catalog.local.warehouse\", \"/Users/neelkalavadiya/iceberg_warehouse\") \\\n",
    "    .config(\"spark.sql.extensions\", \"org.apache.iceberg.spark.extensions.IcebergSparkSessionExtensions\") \\\n",
    "    .getOrCreate()\n"
   ]
  },
  {
   "cell_type": "code",
   "execution_count": 20,
   "id": "19095130-f387-4eff-a982-50dc0ade33d9",
   "metadata": {},
   "outputs": [],
   "source": [
    "from pyspark.sql.functions import col, when, lit, current_timestamp\n",
    "\n",
    "# Load the cleaned parquet (output from Notebook 1)\n",
    "df_cleaned = spark.read.parquet(\"/Users/neelkalavadiya/iceberg_warehouse/checkpoint_parquet/transform\")"
   ]
  },
  {
   "cell_type": "code",
   "execution_count": 21,
   "id": "6f56690e-2dc1-4101-a53a-00a517aa7425",
   "metadata": {},
   "outputs": [],
   "source": [
    "# --- Enrichment --- #\n",
    "\n",
    "# Add ingestion timestamp\n",
    "df_enriched = df_cleaned.withColumn(\"silver_ingestion_ts\", current_timestamp())"
   ]
  },
  {
   "cell_type": "code",
   "execution_count": 22,
   "id": "d7fa7848-bac1-496f-ac42-1dc0f242060b",
   "metadata": {},
   "outputs": [],
   "source": [
    "# Classify payer category\n",
    "from pyspark.sql.functions import when\n",
    "\n",
    "payer_category_expr = when(col(\"payer_name\").rlike(\"(?i)aetna|cigna|humana|anthem|imagine health|blue cross\"), \"Commercial\") \\\n",
    "    .when(col(\"payer_name\").rlike(\"(?i)medicare|provider partners|devoted\"), \"Medicare\") \\\n",
    "    .when(col(\"payer_name\").rlike(\"(?i)medicaid|community first|molina\"), \"Medicaid\") \\\n",
    "    .when(col(\"plan_name\").rlike(\"(?i)HIX|exchange|blue advantage\"), \"Exchange\") \\\n",
    "    .otherwise(\"Other\")\n",
    "\n",
    "df_enriched = df_enriched.withColumn(\"payer_category\", payer_category_expr)"
   ]
  },
  {
   "cell_type": "code",
   "execution_count": 23,
   "id": "a1b2573b-5421-4d8f-aabb-9f5f542841f1",
   "metadata": {},
   "outputs": [],
   "source": [
    "#Classify Pricing Model\n",
    "df_enriched = df_enriched.withColumn(\n",
    "    \"pricing_model\",\n",
    "    when(col(\"methodology\").rlike(\"(?i)case rate\"), \"Case Rate\")\n",
    "    .when(col(\"methodology\").rlike(\"(?i)fee schedule\"), \"Fee Schedule\")\n",
    "    .when(col(\"methodology\").rlike(\"(?i)percent|percentage\"), \"Percentage-Based\")\n",
    "    .otherwise(\"Other\")\n",
    ")"
   ]
  },
  {
   "cell_type": "code",
   "execution_count": 24,
   "id": "53fcec05-d00c-4eda-b4f2-7f2779b3c79a",
   "metadata": {},
   "outputs": [],
   "source": [
    "# Extract Plan Type\n",
    "df_enriched = df_enriched.withColumn(\n",
    "    \"plan_type\",\n",
    "    when(col(\"plan_name\").rlike(\"(?i)hmo\"), \"HMO\")\n",
    "    .when(col(\"plan_name\").rlike(\"(?i)ppo\"), \"PPO\")\n",
    "    .when(col(\"plan_name\").rlike(\"(?i)hix|exchange\"), \"Exchange\")\n",
    "    .when(col(\"plan_name\").rlike(\"(?i)medicare|medicaid\"), \"Government\")\n",
    "    .otherwise(\"Other\"))"
   ]
  },
  {
   "cell_type": "code",
   "execution_count": 25,
   "id": "0433c4eb-0cfd-420d-b331-c81d54a14063",
   "metadata": {},
   "outputs": [],
   "source": [
    "# Bucket Standard Charges\n",
    "df_enriched = df_enriched.withColumn(\n",
    "    \"charge_bucket\",\n",
    "    when(col(\"standard_charge_dollar\") < 100, \"Low\")\n",
    "    .when(col(\"standard_charge_dollar\").between(100, 1000), \"Medium\")\n",
    "    .when(col(\"standard_charge_dollar\") > 1000, \"High\")\n",
    "    .otherwise(\"Unknown\")\n",
    ")"
   ]
  },
  {
   "cell_type": "code",
   "execution_count": 26,
   "id": "5c8307ea-d041-4901-bce7-99b7a3b15794",
   "metadata": {},
   "outputs": [],
   "source": [
    "#Add Missing Payer Info Flag\n",
    "df_enriched = df_enriched.withColumn(\n",
    "    \"payer_info_missing\",\n",
    "    when(\n",
    "        col(\"payer_name\").isNull() |\n",
    "        col(\"plan_name\").isNull() |\n",
    "        col(\"methodology\").isNull(),\n",
    "        True\n",
    "    ).otherwise(False)\n",
    ")"
   ]
  },
  {
   "cell_type": "code",
   "execution_count": 27,
   "id": "3751a9f6-e459-4945-97f8-fcefdf20fb00",
   "metadata": {},
   "outputs": [],
   "source": [
    "# Classify treatment types from service description (simplified rules)\n",
    "from pyspark.sql.functions import col, when, regexp_extract, lower\n",
    "\n",
    "# Treatment type based on keyword match\n",
    "df_enriched = df_enriched.withColumn(\n",
    "    \"treatment_type\",\n",
    "    when(lower(col(\"service_description\")).rlike(\"mri|ct|x-ray|ultrasound|imaging\"), \"Imaging\")\n",
    "    .when(lower(col(\"service_description\")).rlike(\"injection|inj|tablet|tb|cp|oral|syrup|mg|solution|suspension\"), \"Medication\")\n",
    "    .when(lower(col(\"service_description\")).rlike(\"biopsy|surgery|resection|repair|ablation|implant|arthroplasty|graft\"), \"Procedure\")\n",
    "    .when(lower(col(\"service_description\")).rlike(\"panel|ab/|antibody|lab|urine|test|analysis|level|quant\"), \"Lab Test\")\n",
    "    .when(lower(col(\"service_description\")).rlike(\"device|supply|graft|stent|pump|dressing\"), \"Supply/Device\")\n",
    "    .otherwise(\"Other\")\n",
    ")\n",
    "\n",
    "# is_medication flag\n",
    "df_enriched = df_enriched.withColumn(\n",
    "    \"is_medication\",\n",
    "    when(lower(col(\"service_description\")).rlike(\"mg|tb|cp|solution|suspension|syrup|inhalation|injection\"), True).otherwise(False)\n",
    ")\n",
    "\n",
    "# Drug form (simple classification)\n",
    "df_enriched = df_enriched.withColumn(\n",
    "    \"drug_form\",\n",
    "    when(lower(col(\"service_description\")).rlike(\"tb|tablet|cp\"), \"Tablet\")\n",
    "    .when(lower(col(\"service_description\")).rlike(\"inj|injection|ij\"), \"Injection\")\n",
    "    .when(lower(col(\"service_description\")).rlike(\"sol|solution\"), \"Solution\")\n",
    "    .when(lower(col(\"service_description\")).rlike(\"cream|ointment\"), \"Topical\")\n",
    "    .when(lower(col(\"service_description\")).rlike(\"inhalation|ih|is\"), \"Inhaler\")\n",
    "    .otherwise(\"Other\")\n",
    ")\n",
    "\n",
    "# Imaging Type (subset of treatment_type)\n",
    "df_enriched = df_enriched.withColumn(\n",
    "    \"imaging_type\",\n",
    "    when(lower(col(\"service_description\")).rlike(\"mri\"), \"MRI\")\n",
    "    .when(lower(col(\"service_description\")).rlike(\"ct\"), \"CT Scan\")\n",
    "    .when(lower(col(\"service_description\")).rlike(\"x-ray\"), \"X-Ray\")\n",
    "    .when(lower(col(\"service_description\")).rlike(\"ultrasound\"), \"Ultrasound\")\n",
    "    .otherwise(None)\n",
    ")\n",
    "\n",
    "# Lab test flag\n",
    "df_enriched = df_enriched.withColumn(\n",
    "    \"is_lab_test\",\n",
    "    when(lower(col(\"service_description\")).rlike(\"panel|antibody|test|level|urine|blood|cbc|cmp|lipid\"), True).otherwise(False)\n",
    ")\n",
    "\n",
    "# Brand indicator (recognizing known brand/device names)\n",
    "df_enriched = df_enriched.withColumn(\n",
    "    \"has_brand_indicator\",\n",
    "    when(lower(col(\"service_description\")).rlike(\"stryker|depuy|bard|zimmer|philips|medtronic|covidien|smith\"), True).otherwise(False)\n",
    ")"
   ]
  },
  {
   "cell_type": "code",
   "execution_count": 28,
   "id": "cd926722-e600-457e-89a5-e2935f6a6e37",
   "metadata": {},
   "outputs": [
    {
     "name": "stdout",
     "output_type": "stream",
     "text": [
      "+----------------------------------------+---------------+-------------+-----+--------+\n",
      "|hospital_address                        |street         |city         |state|zip_code|\n",
      "+----------------------------------------+---------------+-------------+-----+--------+\n",
      "|600 N Union Ave, New Braunfels, TX 78130|600 N Union Ave|New Braunfels|TX   |78130   |\n",
      "|600 N Union Ave, New Braunfels, TX 78130|600 N Union Ave|New Braunfels|TX   |78130   |\n",
      "|600 N Union Ave, New Braunfels, TX 78130|600 N Union Ave|New Braunfels|TX   |78130   |\n",
      "|600 N Union Ave, New Braunfels, TX 78130|600 N Union Ave|New Braunfels|TX   |78130   |\n",
      "|600 N Union Ave, New Braunfels, TX 78130|600 N Union Ave|New Braunfels|TX   |78130   |\n",
      "+----------------------------------------+---------------+-------------+-----+--------+\n",
      "only showing top 5 rows\n",
      "\n"
     ]
    }
   ],
   "source": [
    "from pyspark.sql.functions import split, trim, regexp_extract, col\n",
    "\n",
    "# Split by comma\n",
    "df_address_split = df_enriched.withColumn(\"street\", trim(split(\"hospital_address\", \",\")[0])) \\\n",
    "    .withColumn(\"city\", trim(split(\"hospital_address\", \",\")[1])) \\\n",
    "    .withColumn(\"state_zip\", trim(split(\"hospital_address\", \",\")[2]))\n",
    "\n",
    "# Further extract state and ZIP from state_zip\n",
    "df_address_cleaned = df_address_split \\\n",
    "    .withColumn(\"state\", regexp_extract(\"state_zip\", r\"([A-Z]{2})\", 1)) \\\n",
    "    .withColumn(\"zip_code\", regexp_extract(\"state_zip\", r\"(\\d{5})\", 1)) \\\n",
    "    .drop(\"state_zip\")\n",
    "\n",
    "# Optional: select only desired columns to verify\n",
    "df_address_cleaned.select(\"hospital_address\", \"street\", \"city\", \"state\", \"zip_code\").show(5, truncate=False)"
   ]
  },
  {
   "cell_type": "code",
   "execution_count": 29,
   "id": "37fb2ac2-7d85-4626-88b5-4c8f11f413cc",
   "metadata": {},
   "outputs": [
    {
     "name": "stderr",
     "output_type": "stream",
     "text": [
      "                                                                                \r"
     ]
    }
   ],
   "source": [
    "# Write to Parquet (Intermediate Step)\n",
    "parquet_path = \"/Users/neelkalavadiya/iceberg_warehouse/checkpoint_parquet/transform/enrichment\"\n",
    "df_address_cleaned.write.mode(\"overwrite\").parquet(parquet_path)"
   ]
  },
  {
   "cell_type": "code",
   "execution_count": 30,
   "id": "5420fbe9-4fee-45e7-9e57-e512dd5cb94f",
   "metadata": {},
   "outputs": [],
   "source": [
    "df_check=spark.read.parquet(parquet_path)"
   ]
  },
  {
   "cell_type": "code",
   "execution_count": 31,
   "id": "b0075460-d503-436e-b254-ee607afe7918",
   "metadata": {},
   "outputs": [
    {
     "name": "stdout",
     "output_type": "stream",
     "text": [
      "root\n",
      " |-- provider_id: string (nullable = true)\n",
      " |-- hospital_name: string (nullable = true)\n",
      " |-- hospital_address: string (nullable = true)\n",
      " |-- hospital_location: string (nullable = true)\n",
      " |-- last_updated_on: date (nullable = true)\n",
      " |-- license_number: string (nullable = true)\n",
      " |-- license_state: string (nullable = true)\n",
      " |-- service_description: string (nullable = true)\n",
      " |-- drug_type: string (nullable = true)\n",
      " |-- drug_unit: string (nullable = true)\n",
      " |-- code: string (nullable = true)\n",
      " |-- modifiers: string (nullable = true)\n",
      " |-- code_type: string (nullable = true)\n",
      " |-- care_setting: string (nullable = true)\n",
      " |-- gross_charge: double (nullable = true)\n",
      " |-- discounted_cash: double (nullable = true)\n",
      " |-- min_charge: double (nullable = true)\n",
      " |-- max_charge: double (nullable = true)\n",
      " |-- payer_name: string (nullable = true)\n",
      " |-- plan_name: string (nullable = true)\n",
      " |-- billing_class: string (nullable = true)\n",
      " |-- methodology: string (nullable = true)\n",
      " |-- standard_charge_dollar: double (nullable = true)\n",
      " |-- standard_charge_percentage: double (nullable = true)\n",
      " |-- additional_payer_notes: string (nullable = true)\n",
      " |-- payer_id: string (nullable = true)\n",
      " |-- silver_ingestion_ts: timestamp (nullable = true)\n",
      " |-- payer_category: string (nullable = true)\n",
      " |-- pricing_model: string (nullable = true)\n",
      " |-- plan_type: string (nullable = true)\n",
      " |-- charge_bucket: string (nullable = true)\n",
      " |-- payer_info_missing: boolean (nullable = true)\n",
      " |-- treatment_type: string (nullable = true)\n",
      " |-- is_medication: boolean (nullable = true)\n",
      " |-- drug_form: string (nullable = true)\n",
      " |-- imaging_type: string (nullable = true)\n",
      " |-- is_lab_test: boolean (nullable = true)\n",
      " |-- has_brand_indicator: boolean (nullable = true)\n",
      " |-- street: string (nullable = true)\n",
      " |-- city: string (nullable = true)\n",
      " |-- state: string (nullable = true)\n",
      " |-- zip_code: string (nullable = true)\n",
      "\n"
     ]
    }
   ],
   "source": [
    "df_check.printSchema()"
   ]
  },
  {
   "cell_type": "code",
   "execution_count": 32,
   "id": "63853125-0b50-4e27-8407-29fcc5b6bedc",
   "metadata": {},
   "outputs": [
    {
     "name": "stdout",
     "output_type": "stream",
     "text": [
      "Dropping the following unnecessary columns:\n",
      " - drug_type\n",
      " - payer_id\n",
      " - additional_payer_notes\n",
      " - hospital_location\n",
      " - service_description\n",
      " - drug_unit\n",
      " - zip_code\n",
      " - hospital_address\n",
      " - street\n"
     ]
    }
   ],
   "source": [
    "from pyspark.sql.functions import col\n",
    "\n",
    "# Step 1: Read the enriched parquet file\n",
    "df = spark.read.parquet(parquet_path)\n",
    "\n",
    "# Step 2: Define columns to retain\n",
    "columns_to_keep = [\n",
    "    \"provider_id\", \"hospital_name\", \"city\", \"state\", \"last_updated_on\", \"license_number\", \n",
    "    \"license_state\", \"code\", \"modifiers\", \"code_type\", \"care_setting\",\n",
    "    \"gross_charge\", \"discounted_cash\", \"min_charge\", \"max_charge\",\n",
    "    \"payer_name\", \"plan_name\", \"billing_class\", \"methodology\",\n",
    "    \"standard_charge_dollar\", \"standard_charge_percentage\",\n",
    "    \"silver_ingestion_ts\", \"payer_category\", \"pricing_model\", \"plan_type\",\n",
    "    \"charge_bucket\", \"payer_info_missing\", \"treatment_type\", \"is_medication\",\n",
    "    \"drug_form\", \"imaging_type\", \"is_lab_test\", \"has_brand_indicator\"\n",
    "]\n",
    "\n",
    "# Step 3: Determine columns to drop\n",
    "all_columns = df.columns\n",
    "columns_to_drop = list(set(all_columns) - set(columns_to_keep))\n",
    "\n",
    "print(\"Dropping the following unnecessary columns:\")\n",
    "for col_name in columns_to_drop:\n",
    "    print(f\" - {col_name}\")\n",
    "\n",
    "# Step 4: Drop and create final DataFrame\n",
    "df_cleaned = df.select([col(c) for c in columns_to_keep])\n"
   ]
  },
  {
   "cell_type": "code",
   "execution_count": 33,
   "id": "d3ac11b1-d4b5-42f0-9f45-7e8d1f94eb74",
   "metadata": {},
   "outputs": [
    {
     "data": {
      "text/plain": [
       "DataFrame[]"
      ]
     },
     "execution_count": 33,
     "metadata": {},
     "output_type": "execute_result"
    }
   ],
   "source": [
    "spark.sql(\"DROP TABLE IF EXISTS local.silver.hospital_demo\")"
   ]
  },
  {
   "cell_type": "code",
   "execution_count": 36,
   "id": "e512b227-b859-4723-8f56-b702cba697f6",
   "metadata": {},
   "outputs": [
    {
     "name": "stderr",
     "output_type": "stream",
     "text": [
      "                                                                                \r"
     ]
    }
   ],
   "source": [
    "\n",
    "# Step 5: Write to Iceberg silver table\n",
    "df_cleaned.writeTo(\"local.silver.hospital_demo\") \\\n",
    "    .using(\"iceberg\") \\\n",
    "    .tableProperty(\"format-version\", \"2\") \\\n",
    "    .createOrReplace()"
   ]
  },
  {
   "cell_type": "code",
   "execution_count": 37,
   "id": "c28fd524-63be-496e-9d97-06dd22be7418",
   "metadata": {},
   "outputs": [
    {
     "name": "stdout",
     "output_type": "stream",
     "text": [
      "+---------+-------------------------+-----------+\n",
      "|namespace|tableName                |isTemporary|\n",
      "+---------+-------------------------+-----------+\n",
      "|silver   |mission_trail_baptist    |false      |\n",
      "|silver   |hospital_demo            |false      |\n",
      "|silver   |santa_rosa_new_braunfels |false      |\n",
      "|silver   |resolute_health          |false      |\n",
      "|silver   |santa_rosa_westover_hills|false      |\n",
      "|silver   |north_central_baptist    |false      |\n",
      "|silver   |santa_rosa_medical_center|false      |\n",
      "|silver   |baptist_medical_center   |false      |\n",
      "+---------+-------------------------+-----------+\n",
      "\n"
     ]
    }
   ],
   "source": [
    "spark.sql(\"SHOW TABLES IN local.silver\").show(truncate=False)"
   ]
  },
  {
   "cell_type": "code",
   "execution_count": null,
   "id": "6a9a5dd7-37cb-4bfc-8a80-3991282d4ed3",
   "metadata": {},
   "outputs": [],
   "source": []
  },
  {
   "cell_type": "code",
   "execution_count": null,
   "id": "638ac498-d386-4225-bab2-8e00475d6bae",
   "metadata": {},
   "outputs": [],
   "source": []
  }
 ],
 "metadata": {
  "kernelspec": {
   "display_name": "Python 3 (ipykernel)",
   "language": "python",
   "name": "python3"
  },
  "language_info": {
   "codemirror_mode": {
    "name": "ipython",
    "version": 3
   },
   "file_extension": ".py",
   "mimetype": "text/x-python",
   "name": "python",
   "nbconvert_exporter": "python",
   "pygments_lexer": "ipython3",
   "version": "3.9.19"
  }
 },
 "nbformat": 4,
 "nbformat_minor": 5
}
